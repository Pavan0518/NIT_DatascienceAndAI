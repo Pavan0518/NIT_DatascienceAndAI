{
 "cells": [
  {
   "cell_type": "code",
   "execution_count": 1,
   "id": "4ece5a9c-fa0b-43a5-b0c4-c27c445c1aac",
   "metadata": {},
   "outputs": [
    {
     "data": {
      "text/plain": [
       "2"
      ]
     },
     "execution_count": 1,
     "metadata": {},
     "output_type": "execute_result"
    }
   ],
   "source": [
    "1 + 1 # ADDITION "
   ]
  },
  {
   "cell_type": "code",
   "execution_count": 2,
   "id": "183e3900-c1dc-4c72-ad5d-db3d53caeefa",
   "metadata": {},
   "outputs": [
    {
     "data": {
      "text/plain": [
       "1"
      ]
     },
     "execution_count": 2,
     "metadata": {},
     "output_type": "execute_result"
    }
   ],
   "source": [
    "2-1"
   ]
  },
  {
   "cell_type": "code",
   "execution_count": 3,
   "id": "1e6a6e1e-7f62-4c61-b54d-722ca99f8ff5",
   "metadata": {},
   "outputs": [
    {
     "data": {
      "text/plain": [
       "12"
      ]
     },
     "execution_count": 3,
     "metadata": {},
     "output_type": "execute_result"
    }
   ],
   "source": [
    "3*4"
   ]
  },
  {
   "cell_type": "code",
   "execution_count": 4,
   "id": "7c19ac17-6973-4bf3-825e-cc776b10e329",
   "metadata": {},
   "outputs": [
    {
     "data": {
      "text/plain": [
       "2.0"
      ]
     },
     "execution_count": 4,
     "metadata": {},
     "output_type": "execute_result"
    }
   ],
   "source": [
    "8 / 4 # Division"
   ]
  },
  {
   "cell_type": "code",
   "execution_count": 5,
   "id": "ca14874a-f372-4860-a1bd-3b14268bb2f9",
   "metadata": {},
   "outputs": [
    {
     "data": {
      "text/plain": [
       "1.6"
      ]
     },
     "execution_count": 5,
     "metadata": {},
     "output_type": "execute_result"
    }
   ],
   "source": [
    "8 / 5 #float division"
   ]
  },
  {
   "cell_type": "code",
   "execution_count": 6,
   "id": "6705ef5b-3269-4f3c-96b4-7f00712c2a3c",
   "metadata": {},
   "outputs": [
    {
     "data": {
      "text/plain": [
       "2.0"
      ]
     },
     "execution_count": 6,
     "metadata": {},
     "output_type": "execute_result"
    }
   ],
   "source": [
    "8/4 ## float division "
   ]
  },
  {
   "cell_type": "code",
   "execution_count": 7,
   "id": "7e55a75d-d1b0-4052-a83f-cb78d772204a",
   "metadata": {},
   "outputs": [
    {
     "data": {
      "text/plain": [
       "2"
      ]
     },
     "execution_count": 7,
     "metadata": {},
     "output_type": "execute_result"
    }
   ],
   "source": [
    "8 // 4 #integer division"
   ]
  },
  {
   "cell_type": "code",
   "execution_count": 8,
   "id": "4d14a66d-6245-4bce-a32b-f16dea97eedf",
   "metadata": {},
   "outputs": [
    {
     "data": {
      "text/plain": [
       "10"
      ]
     },
     "execution_count": 8,
     "metadata": {},
     "output_type": "execute_result"
    }
   ],
   "source": [
    "8 + 9 - 7"
   ]
  },
  {
   "cell_type": "code",
   "execution_count": 9,
   "id": "68e678e2-f7f4-43d2-ac4e-92eb8a095eb6",
   "metadata": {},
   "outputs": [
    {
     "ename": "SyntaxError",
     "evalue": "invalid syntax (3107487634.py, line 1)",
     "output_type": "error",
     "traceback": [
      "\u001b[0;36m  Cell \u001b[0;32mIn[9], line 1\u001b[0;36m\u001b[0m\n\u001b[0;31m    8 + 8 -  #syntax error:\u001b[0m\n\u001b[0m             ^\u001b[0m\n\u001b[0;31mSyntaxError\u001b[0m\u001b[0;31m:\u001b[0m invalid syntax\n"
     ]
    }
   ],
   "source": [
    "8 + 8 -  #syntax error:"
   ]
  },
  {
   "cell_type": "code",
   "execution_count": 10,
   "id": "b7601474-b8fe-48d6-9cf5-05979119ad10",
   "metadata": {},
   "outputs": [
    {
     "data": {
      "text/plain": [
       "30"
      ]
     },
     "execution_count": 10,
     "metadata": {},
     "output_type": "execute_result"
    }
   ],
   "source": [
    "5 + 5 * 5"
   ]
  },
  {
   "cell_type": "code",
   "execution_count": 11,
   "id": "a8e404cd-7157-4ace-aa9c-ac0d9cd9aa87",
   "metadata": {},
   "outputs": [
    {
     "data": {
      "text/plain": [
       "50"
      ]
     },
     "execution_count": 11,
     "metadata": {},
     "output_type": "execute_result"
    }
   ],
   "source": [
    "(5 + 5) * 5 # BODMAS (Bracket || Oders || Divide || Multiply || Add || Substact)"
   ]
  },
  {
   "cell_type": "code",
   "execution_count": 12,
   "id": "ce47f99e-bd10-4970-a685-ac6e8ee33210",
   "metadata": {},
   "outputs": [
    {
     "data": {
      "text/plain": [
       "32"
      ]
     },
     "execution_count": 12,
     "metadata": {},
     "output_type": "execute_result"
    }
   ],
   "source": [
    "2 * 2 * 2 * 2 * 2 # exponentaion"
   ]
  },
  {
   "cell_type": "code",
   "execution_count": 13,
   "id": "e1642048-3754-4fa6-9822-4135a6faeabd",
   "metadata": {},
   "outputs": [
    {
     "data": {
      "text/plain": [
       "10"
      ]
     },
     "execution_count": 13,
     "metadata": {},
     "output_type": "execute_result"
    }
   ],
   "source": [
    "2 * 5"
   ]
  },
  {
   "cell_type": "code",
   "execution_count": 14,
   "id": "0ef88e33-755a-4a08-aa3b-a53ac81d0be3",
   "metadata": {},
   "outputs": [
    {
     "data": {
      "text/plain": [
       "9"
      ]
     },
     "execution_count": 14,
     "metadata": {},
     "output_type": "execute_result"
    }
   ],
   "source": [
    "3 ** 2"
   ]
  },
  {
   "cell_type": "code",
   "execution_count": 15,
   "id": "7e770a41-64af-4f19-be64-39947d3fd8e7",
   "metadata": {},
   "outputs": [
    {
     "data": {
      "text/plain": [
       "1"
      ]
     },
     "execution_count": 15,
     "metadata": {},
     "output_type": "execute_result"
    }
   ],
   "source": [
    "15 % 2 # Modulus "
   ]
  },
  {
   "cell_type": "code",
   "execution_count": 16,
   "id": "5678db05-2200-4aa6-a0d5-580c45030d89",
   "metadata": {},
   "outputs": [
    {
     "data": {
      "text/plain": [
       "0"
      ]
     },
     "execution_count": 16,
     "metadata": {},
     "output_type": "execute_result"
    }
   ],
   "source": [
    "10 % 2 "
   ]
  },
  {
   "cell_type": "code",
   "execution_count": 17,
   "id": "3f90d0e1-d614-43a3-ba52-b82439cf4184",
   "metadata": {},
   "outputs": [
    {
     "ename": "SyntaxError",
     "evalue": "invalid syntax (1768330815.py, line 1)",
     "output_type": "error",
     "traceback": [
      "\u001b[0;36m  Cell \u001b[0;32mIn[17], line 1\u001b[0;36m\u001b[0m\n\u001b[0;31m    15 %% 2\u001b[0m\n\u001b[0m        ^\u001b[0m\n\u001b[0;31mSyntaxError\u001b[0m\u001b[0;31m:\u001b[0m invalid syntax\n"
     ]
    }
   ],
   "source": [
    "15 %% 2"
   ]
  },
  {
   "cell_type": "code",
   "execution_count": 18,
   "id": "1f66cb6d-0081-466e-beb0-9a85583a9520",
   "metadata": {},
   "outputs": [
    {
     "data": {
      "text/plain": [
       "-4"
      ]
     },
     "execution_count": 18,
     "metadata": {},
     "output_type": "execute_result"
    }
   ],
   "source": [
    "-10//3"
   ]
  },
  {
   "cell_type": "code",
   "execution_count": 19,
   "id": "9dc6dae4-9429-486d-90fb-d749e0954d54",
   "metadata": {},
   "outputs": [
    {
     "ename": "TypeError",
     "evalue": "unsupported operand type(s) for +: 'int' and 'str'",
     "output_type": "error",
     "traceback": [
      "\u001b[0;31m---------------------------------------------------------------------------\u001b[0m",
      "\u001b[0;31mTypeError\u001b[0m                                 Traceback (most recent call last)",
      "Cell \u001b[0;32mIn[19], line 1\u001b[0m\n\u001b[0;32m----> 1\u001b[0m \u001b[38;5;241m3\u001b[39m \u001b[38;5;241m+\u001b[39m \u001b[38;5;124m'\u001b[39m\u001b[38;5;124mnit\u001b[39m\u001b[38;5;124m'\u001b[39m\n",
      "\u001b[0;31mTypeError\u001b[0m: unsupported operand type(s) for +: 'int' and 'str'"
     ]
    }
   ],
   "source": [
    "3 + 'nit'"
   ]
  },
  {
   "cell_type": "code",
   "execution_count": 20,
   "id": "06ca9d85-818d-49a1-9d90-0c7bee924938",
   "metadata": {},
   "outputs": [
    {
     "ename": "TypeError",
     "evalue": "unsupported operand type(s) for +: 'int' and 'str'",
     "output_type": "error",
     "traceback": [
      "\u001b[0;31m---------------------------------------------------------------------------\u001b[0m",
      "\u001b[0;31mTypeError\u001b[0m                                 Traceback (most recent call last)",
      "Cell \u001b[0;32mIn[20], line 1\u001b[0m\n\u001b[0;32m----> 1\u001b[0m \u001b[38;5;241m3\u001b[39m \u001b[38;5;241m+\u001b[39m \u001b[38;5;124m'\u001b[39m\u001b[38;5;124mrainy\u001b[39m\u001b[38;5;124m'\u001b[39m\n",
      "\u001b[0;31mTypeError\u001b[0m: unsupported operand type(s) for +: 'int' and 'str'"
     ]
    }
   ],
   "source": [
    "3 + 'rainy'"
   ]
  },
  {
   "cell_type": "code",
   "execution_count": 21,
   "id": "39158f94-eeea-43ac-a649-743941e99a5a",
   "metadata": {},
   "outputs": [
    {
     "data": {
      "text/plain": [
       "'nitnitnit'"
      ]
     },
     "execution_count": 21,
     "metadata": {},
     "output_type": "execute_result"
    }
   ],
   "source": [
    "3 * 'nit'"
   ]
  },
  {
   "cell_type": "code",
   "execution_count": 22,
   "id": "fec76e86-2cdf-4096-8950-61b09bb87ce7",
   "metadata": {},
   "outputs": [
    {
     "data": {
      "text/plain": [
       "' nit  nit  nit '"
      ]
     },
     "execution_count": 22,
     "metadata": {},
     "output_type": "execute_result"
    }
   ],
   "source": [
    "3 * ' nit '"
   ]
  },
  {
   "cell_type": "code",
   "execution_count": 23,
   "id": "1c89cb73-b127-4011-b69e-d944a842f3a7",
   "metadata": {},
   "outputs": [
    {
     "name": "stdout",
     "output_type": "stream",
     "text": [
      "15\n",
      "7.8\n",
      "nit\n",
      "(8+9j)\n",
      "True\n"
     ]
    }
   ],
   "source": [
    "a,b,c,d,e = 15, 7.8, 'nit', 8+9j, True\n",
    "\n",
    "print(a)\n",
    "print(b)\n",
    "print(c)\n",
    "print(d)\n",
    "print(e)"
   ]
  },
  {
   "cell_type": "code",
   "execution_count": 24,
   "id": "5049b446-2c06-4f61-b713-4d3076ffd8c4",
   "metadata": {},
   "outputs": [
    {
     "name": "stdout",
     "output_type": "stream",
     "text": [
      "<class 'int'>\n",
      "<class 'float'>\n",
      "<class 'str'>\n",
      "<class 'complex'>\n",
      "<class 'bool'>\n"
     ]
    }
   ],
   "source": [
    "print(type(a))\n",
    "print(type(b))\n",
    "print(type(c))\n",
    "print(type(d))\n",
    "print(type(e))"
   ]
  },
  {
   "cell_type": "code",
   "execution_count": 25,
   "id": "13430f13-7996-4ee1-a391-0b3f3fa2eb8a",
   "metadata": {},
   "outputs": [
    {
     "data": {
      "text/plain": [
       "str"
      ]
     },
     "execution_count": 25,
     "metadata": {},
     "output_type": "execute_result"
    }
   ],
   "source": [
    "type(c)"
   ]
  },
  {
   "cell_type": "code",
   "execution_count": 26,
   "id": "d346626f-25a9-4cae-b5b0-3615a8936c88",
   "metadata": {},
   "outputs": [
    {
     "data": {
      "text/plain": [
       "5"
      ]
     },
     "execution_count": 26,
     "metadata": {},
     "output_type": "execute_result"
    }
   ],
   "source": [
    "a = 2\n",
    "b = 3\n",
    "a + b"
   ]
  },
  {
   "cell_type": "code",
   "execution_count": 27,
   "id": "17b77102-0995-4e5b-9118-97c99bc6821b",
   "metadata": {},
   "outputs": [
    {
     "data": {
      "text/plain": [
       "5"
      ]
     },
     "execution_count": 27,
     "metadata": {},
     "output_type": "execute_result"
    }
   ],
   "source": [
    "c = a + b\n",
    "c"
   ]
  },
  {
   "cell_type": "code",
   "execution_count": 28,
   "id": "62815d11-80ce-410c-856d-9b962d9aa6e6",
   "metadata": {},
   "outputs": [
    {
     "ename": "TypeError",
     "evalue": "unsupported operand type(s) for +: 'int' and 'str'",
     "output_type": "error",
     "traceback": [
      "\u001b[0;31m---------------------------------------------------------------------------\u001b[0m",
      "\u001b[0;31mTypeError\u001b[0m                                 Traceback (most recent call last)",
      "Cell \u001b[0;32mIn[28], line 3\u001b[0m\n\u001b[1;32m      1\u001b[0m a \u001b[38;5;241m=\u001b[39m \u001b[38;5;241m3\u001b[39m\n\u001b[1;32m      2\u001b[0m b \u001b[38;5;241m=\u001b[39m \u001b[38;5;124m'\u001b[39m\u001b[38;5;124mhi\u001b[39m\u001b[38;5;124m'\u001b[39m\n\u001b[0;32m----> 3\u001b[0m c \u001b[38;5;241m=\u001b[39m a \u001b[38;5;241m+\u001b[39m b\n\u001b[1;32m      4\u001b[0m \u001b[38;5;28mprint\u001b[39m(c)\n",
      "\u001b[0;31mTypeError\u001b[0m: unsupported operand type(s) for +: 'int' and 'str'"
     ]
    }
   ],
   "source": [
    "a = 3\n",
    "b = 'hi'\n",
    "c = a + b\n",
    "print(c)"
   ]
  },
  {
   "cell_type": "code",
   "execution_count": 29,
   "id": "34cee196-8827-44cb-9f7e-8ae6323e95eb",
   "metadata": {},
   "outputs": [
    {
     "ename": "SyntaxError",
     "evalue": "unterminated string literal (detected at line 1) (1294101388.py, line 1)",
     "output_type": "error",
     "traceback": [
      "\u001b[0;36m  Cell \u001b[0;32mIn[29], line 1\u001b[0;36m\u001b[0m\n\u001b[0;31m    print('max it's\"Technology\"') # \\ has some special meaning to ignore the error\u001b[0m\n\u001b[0m                               ^\u001b[0m\n\u001b[0;31mSyntaxError\u001b[0m\u001b[0;31m:\u001b[0m unterminated string literal (detected at line 1)\n"
     ]
    }
   ],
   "source": [
    "print('max it's\"Technology\"') # \\ has some special meaning to ignore the error"
   ]
  },
  {
   "cell_type": "code",
   "execution_count": 30,
   "id": "34f7f23d-e410-449f-8f21-2f4b3cf5ddf7",
   "metadata": {},
   "outputs": [
    {
     "name": "stdout",
     "output_type": "stream",
     "text": [
      "max it's\"Technology\"\n"
     ]
    }
   ],
   "source": [
    "print('max it\\'s\"Technology\"') #\\ has some special meaning to ignore the error"
   ]
  },
  {
   "cell_type": "code",
   "execution_count": 31,
   "id": "322c79f1-0c3b-4f87-a69a-5410a49cd6b1",
   "metadata": {},
   "outputs": [
    {
     "name": "stdout",
     "output_type": "stream",
     "text": [
      "max it Technology\n"
     ]
    }
   ],
   "source": [
    "print('max it',  'Technology')"
   ]
  },
  {
   "cell_type": "code",
   "execution_count": 32,
   "id": "3989cbdd-d176-4942-833a-536f0081ee92",
   "metadata": {},
   "outputs": [
    {
     "name": "stdout",
     "output_type": "stream",
     "text": [
      "max it',  'Technology\n"
     ]
    }
   ],
   "source": [
    "print(\"max it',  'Technology\")"
   ]
  },
  {
   "cell_type": "code",
   "execution_count": 33,
   "id": "8d870f52-1621-4dec-9a26-bdb29f75336f",
   "metadata": {},
   "outputs": [
    {
     "data": {
      "text/plain": [
       "'nit nit'"
      ]
     },
     "execution_count": 33,
     "metadata": {},
     "output_type": "execute_result"
    }
   ],
   "source": [
    "# print the nit 2 times \n",
    "'nit' + ' nit'"
   ]
  },
  {
   "cell_type": "code",
   "execution_count": 34,
   "id": "adf7b999-6b55-4fe8-944f-949f0008e98e",
   "metadata": {},
   "outputs": [
    {
     "name": "stdout",
     "output_type": "stream",
     "text": [
      "c:\n",
      "it\n"
     ]
    }
   ],
   "source": [
    "print('c:\\nit') #\\n -- new line # i will explain "
   ]
  },
  {
   "cell_type": "code",
   "execution_count": 35,
   "id": "f580b1e5-5d8d-4b5e-9250-a1da6cad2932",
   "metadata": {},
   "outputs": [
    {
     "name": "stdout",
     "output_type": "stream",
     "text": [
      "c:\\nit\n"
     ]
    }
   ],
   "source": [
    "print(r'c:\\nit') #raw string # i will explain later"
   ]
  },
  {
   "cell_type": "code",
   "execution_count": 36,
   "id": "2757ca4d-f2ae-4630-89bc-4678d5dda58f",
   "metadata": {},
   "outputs": [
    {
     "data": {
      "text/plain": [
       "2"
      ]
     },
     "execution_count": 36,
     "metadata": {},
     "output_type": "execute_result"
    }
   ],
   "source": [
    "x = 2 #x is variable/identifier/objec, 2 is the value\n",
    "x"
   ]
  },
  {
   "cell_type": "code",
   "execution_count": 37,
   "id": "3a777572-2817-4185-9d3e-51f5f486cec7",
   "metadata": {},
   "outputs": [
    {
     "data": {
      "text/plain": [
       "5"
      ]
     },
     "execution_count": 37,
     "metadata": {},
     "output_type": "execute_result"
    }
   ],
   "source": [
    "x + 3"
   ]
  },
  {
   "cell_type": "code",
   "execution_count": 38,
   "id": "9145b122-5d21-4ef6-bfc5-ef0b73a3f7bd",
   "metadata": {},
   "outputs": [
    {
     "data": {
      "text/plain": [
       "3"
      ]
     },
     "execution_count": 38,
     "metadata": {},
     "output_type": "execute_result"
    }
   ],
   "source": [
    "y = 3\n",
    "y"
   ]
  },
  {
   "cell_type": "code",
   "execution_count": 39,
   "id": "0429165d-df31-4f80-aa10-cb0ceeffc245",
   "metadata": {},
   "outputs": [
    {
     "data": {
      "text/plain": [
       "5"
      ]
     },
     "execution_count": 39,
     "metadata": {},
     "output_type": "execute_result"
    }
   ],
   "source": [
    "x + y"
   ]
  },
  {
   "cell_type": "code",
   "execution_count": 40,
   "id": "c476d7d4-b0fb-4c9d-93fe-52f5266f7542",
   "metadata": {},
   "outputs": [
    {
     "data": {
      "text/plain": [
       "9"
      ]
     },
     "execution_count": 40,
     "metadata": {},
     "output_type": "execute_result"
    }
   ],
   "source": [
    "x = 9\n",
    "x"
   ]
  },
  {
   "cell_type": "code",
   "execution_count": 41,
   "id": "6b1eaccf-e738-4b54-966f-8ccc11d72ebd",
   "metadata": {},
   "outputs": [
    {
     "data": {
      "text/plain": [
       "12"
      ]
     },
     "execution_count": 41,
     "metadata": {},
     "output_type": "execute_result"
    }
   ],
   "source": [
    "x + y"
   ]
  },
  {
   "cell_type": "code",
   "execution_count": 42,
   "id": "0f6fa4f1-9aba-40fe-9b86-afba0ab10157",
   "metadata": {},
   "outputs": [
    {
     "data": {
      "text/plain": [
       "19"
      ]
     },
     "execution_count": 42,
     "metadata": {},
     "output_type": "execute_result"
    }
   ],
   "source": [
    "x + 10"
   ]
  },
  {
   "cell_type": "code",
   "execution_count": 43,
   "id": "66faaf74-bc51-4e59-8333-655ef29c177c",
   "metadata": {},
   "outputs": [
    {
     "ename": "TypeError",
     "evalue": "can only concatenate str (not \"int\") to str",
     "output_type": "error",
     "traceback": [
      "\u001b[0;31m---------------------------------------------------------------------------\u001b[0m",
      "\u001b[0;31mTypeError\u001b[0m                                 Traceback (most recent call last)",
      "Cell \u001b[0;32mIn[43], line 1\u001b[0m\n\u001b[0;32m----> 1\u001b[0m _ \u001b[38;5;241m+\u001b[39m y\n",
      "\u001b[0;31mTypeError\u001b[0m: can only concatenate str (not \"int\") to str"
     ]
    }
   ],
   "source": [
    "_ + y # _ understand the previous result of the "
   ]
  },
  {
   "cell_type": "code",
   "execution_count": 45,
   "id": "86d2bced-22b4-488c-bf9a-25c3d0b91e57",
   "metadata": {},
   "outputs": [
    {
     "data": {
      "text/plain": [
       "'{\"dataframes\": [], \"user\": \"pavan.garigipati\"}'"
      ]
     },
     "execution_count": 45,
     "metadata": {},
     "output_type": "execute_result"
    }
   ],
   "source": [
    "_"
   ]
  },
  {
   "cell_type": "code",
   "execution_count": 46,
   "id": "a3219dcc-9ae3-47c6-81fd-7546400b1d79",
   "metadata": {},
   "outputs": [],
   "source": [
    "# string variable \n",
    "name = 'mit'"
   ]
  },
  {
   "cell_type": "code",
   "execution_count": 47,
   "id": "4bbce745-e61f-40e0-860d-d411e3a82e6f",
   "metadata": {},
   "outputs": [
    {
     "data": {
      "text/plain": [
       "'mittechnology'"
      ]
     },
     "execution_count": 47,
     "metadata": {},
     "output_type": "execute_result"
    }
   ],
   "source": [
    "name + 'technology'"
   ]
  },
  {
   "cell_type": "code",
   "execution_count": 48,
   "id": "9bc9f69b-194a-403e-a5b1-798536ece3cf",
   "metadata": {},
   "outputs": [
    {
     "data": {
      "text/plain": [
       "'mit technology'"
      ]
     },
     "execution_count": 48,
     "metadata": {},
     "output_type": "execute_result"
    }
   ],
   "source": [
    "name + ' technology'"
   ]
  },
  {
   "cell_type": "code",
   "execution_count": 49,
   "id": "ee9dcefe-42a8-4d40-9eea-22a9d83e052d",
   "metadata": {},
   "outputs": [
    {
     "data": {
      "text/plain": [
       "'ab'"
      ]
     },
     "execution_count": 49,
     "metadata": {},
     "output_type": "execute_result"
    }
   ],
   "source": [
    "'a' 'b'"
   ]
  },
  {
   "cell_type": "code",
   "execution_count": 50,
   "id": "be14ec41-cec5-42d2-b875-90f36ad8312e",
   "metadata": {},
   "outputs": [
    {
     "ename": "SyntaxError",
     "evalue": "invalid syntax (3186014715.py, line 1)",
     "output_type": "error",
     "traceback": [
      "\u001b[0;36m  Cell \u001b[0;32mIn[50], line 1\u001b[0;36m\u001b[0m\n\u001b[0;31m    name 'technology'\u001b[0m\n\u001b[0m         ^\u001b[0m\n\u001b[0;31mSyntaxError\u001b[0m\u001b[0;31m:\u001b[0m invalid syntax\n"
     ]
    }
   ],
   "source": [
    "name 'technology'"
   ]
  },
  {
   "cell_type": "markdown",
   "id": "f70dd672-f6a3-49eb-b145-292b855df591",
   "metadata": {},
   "source": [
    "# Operators"
   ]
  },
  {
   "cell_type": "markdown",
   "id": "f21e3a60-7871-499f-9f80-1c9602bfa47e",
   "metadata": {},
   "source": [
    "## Arithmetic operator"
   ]
  },
  {
   "cell_type": "code",
   "execution_count": 51,
   "id": "d33e852d-2932-499e-9aa7-e98411a99376",
   "metadata": {},
   "outputs": [],
   "source": [
    "x1, y1 = 10, 5"
   ]
  },
  {
   "cell_type": "code",
   "execution_count": 53,
   "id": "c4956ebd-4c95-4a37-8dd0-fec710b804fb",
   "metadata": {},
   "outputs": [
    {
     "data": {
      "text/plain": [
       "15"
      ]
     },
     "execution_count": 53,
     "metadata": {},
     "output_type": "execute_result"
    }
   ],
   "source": [
    "x1  + y1 "
   ]
  },
  {
   "cell_type": "code",
   "execution_count": 54,
   "id": "2ff5314f-1d96-4bc7-93de-b9c4588651d4",
   "metadata": {},
   "outputs": [
    {
     "data": {
      "text/plain": [
       "5"
      ]
     },
     "execution_count": 54,
     "metadata": {},
     "output_type": "execute_result"
    }
   ],
   "source": [
    "x1 - y1"
   ]
  },
  {
   "cell_type": "code",
   "execution_count": 55,
   "id": "4641f410-409f-4c2b-be01-9712c6b63e8b",
   "metadata": {},
   "outputs": [
    {
     "data": {
      "text/plain": [
       "2.0"
      ]
     },
     "execution_count": 55,
     "metadata": {},
     "output_type": "execute_result"
    }
   ],
   "source": [
    "x1 / y1"
   ]
  },
  {
   "cell_type": "code",
   "execution_count": 56,
   "id": "1e9700e2-6ada-4d27-bf13-5bb49b45904a",
   "metadata": {},
   "outputs": [
    {
     "data": {
      "text/plain": [
       "2"
      ]
     },
     "execution_count": 56,
     "metadata": {},
     "output_type": "execute_result"
    }
   ],
   "source": [
    "x1 // y1"
   ]
  },
  {
   "cell_type": "code",
   "execution_count": 58,
   "id": "3bae2027-fc11-44ae-ae49-effadeff89a8",
   "metadata": {},
   "outputs": [
    {
     "data": {
      "text/plain": [
       "0"
      ]
     },
     "execution_count": 58,
     "metadata": {},
     "output_type": "execute_result"
    }
   ],
   "source": [
    "x1 % y1 x1 ** y1"
   ]
  },
  {
   "cell_type": "code",
   "execution_count": null,
   "id": "9718fc8a-05f9-487b-9b5d-b36d08432a79",
   "metadata": {},
   "outputs": [],
   "source": []
  },
  {
   "cell_type": "code",
   "execution_count": 59,
   "id": "709349a3-d7dd-421b-8105-1bc951adf742",
   "metadata": {},
   "outputs": [
    {
     "data": {
      "text/plain": [
       "100000"
      ]
     },
     "execution_count": 59,
     "metadata": {},
     "output_type": "execute_result"
    }
   ],
   "source": [
    "x1 ** y1"
   ]
  },
  {
   "cell_type": "code",
   "execution_count": 60,
   "id": "89bc6d7f-0894-4636-a466-0a01ad84c35d",
   "metadata": {},
   "outputs": [
    {
     "data": {
      "text/plain": [
       "27"
      ]
     },
     "execution_count": 60,
     "metadata": {},
     "output_type": "execute_result"
    }
   ],
   "source": [
    "x2 = 3\n",
    "y2 = 3\n",
    "\n",
    "x2 ** y2"
   ]
  },
  {
   "cell_type": "markdown",
   "id": "e37119eb-3eaa-41c9-b96a-ffe6cd15b676",
   "metadata": {},
   "source": [
    "## Assignment operator "
   ]
  },
  {
   "cell_type": "code",
   "execution_count": 61,
   "id": "4167a90c-b1a2-430f-b08f-9053006d1eba",
   "metadata": {},
   "outputs": [],
   "source": [
    "x = 2"
   ]
  },
  {
   "cell_type": "code",
   "execution_count": 62,
   "id": "41f7e46f-02d1-4fd3-92a1-f67804d01afe",
   "metadata": {},
   "outputs": [],
   "source": [
    "x = x + 2 # if you want to increment by 2 "
   ]
  },
  {
   "cell_type": "code",
   "execution_count": 63,
   "id": "7e08b242-96a5-4c97-a954-04a8c8221885",
   "metadata": {},
   "outputs": [
    {
     "data": {
      "text/plain": [
       "4"
      ]
     },
     "execution_count": 63,
     "metadata": {},
     "output_type": "execute_result"
    }
   ],
   "source": [
    "x"
   ]
  },
  {
   "cell_type": "code",
   "execution_count": 64,
   "id": "4f501174-e1a5-4ec2-8910-e36e30a758d5",
   "metadata": {},
   "outputs": [
    {
     "data": {
      "text/plain": [
       "6"
      ]
     },
     "execution_count": 64,
     "metadata": {},
     "output_type": "execute_result"
    }
   ],
   "source": [
    "x += 2\n",
    "x"
   ]
  },
  {
   "cell_type": "code",
   "execution_count": 65,
   "id": "daa7e54b-c941-4bec-a904-3df611039a34",
   "metadata": {},
   "outputs": [
    {
     "data": {
      "text/plain": [
       "8"
      ]
     },
     "execution_count": 65,
     "metadata": {},
     "output_type": "execute_result"
    }
   ],
   "source": [
    "x += 2\n",
    "x"
   ]
  },
  {
   "cell_type": "code",
   "execution_count": 66,
   "id": "0149ff52-859c-425f-9c29-47803e6658a2",
   "metadata": {},
   "outputs": [],
   "source": [
    "x *= 2"
   ]
  },
  {
   "cell_type": "code",
   "execution_count": 67,
   "id": "04aff430-60b2-4473-b5ab-ddc37fdeaeec",
   "metadata": {},
   "outputs": [
    {
     "data": {
      "text/plain": [
       "16"
      ]
     },
     "execution_count": 67,
     "metadata": {},
     "output_type": "execute_result"
    }
   ],
   "source": [
    "x"
   ]
  },
  {
   "cell_type": "code",
   "execution_count": 68,
   "id": "9fe75879-41f5-4776-8dc0-bbd023d771be",
   "metadata": {},
   "outputs": [],
   "source": [
    "x -= 2"
   ]
  },
  {
   "cell_type": "code",
   "execution_count": 69,
   "id": "b6e93df0-97fb-42b9-8125-a8a99692fe2b",
   "metadata": {},
   "outputs": [
    {
     "data": {
      "text/plain": [
       "14"
      ]
     },
     "execution_count": 69,
     "metadata": {},
     "output_type": "execute_result"
    }
   ],
   "source": [
    "x"
   ]
  },
  {
   "cell_type": "code",
   "execution_count": 70,
   "id": "dfd8bba9-c68c-46fb-a4dc-1f7e71894808",
   "metadata": {},
   "outputs": [
    {
     "data": {
      "text/plain": [
       "7.0"
      ]
     },
     "execution_count": 70,
     "metadata": {},
     "output_type": "execute_result"
    }
   ],
   "source": [
    "x /= 2\n",
    "x"
   ]
  },
  {
   "cell_type": "code",
   "execution_count": 71,
   "id": "59290997-bd04-4f9d-8a9a-234b68bbf04b",
   "metadata": {},
   "outputs": [
    {
     "data": {
      "text/plain": [
       "3.0"
      ]
     },
     "execution_count": 71,
     "metadata": {},
     "output_type": "execute_result"
    }
   ],
   "source": [
    "x //= 2\n",
    "x"
   ]
  },
  {
   "cell_type": "code",
   "execution_count": 72,
   "id": "288c09c9-e87e-4c08-8ea8-ccb37a72da9c",
   "metadata": {},
   "outputs": [
    {
     "name": "stdout",
     "output_type": "stream",
     "text": [
      "5\n",
      "6\n"
     ]
    }
   ],
   "source": [
    "a, b = 5,6 # you can assigned variable in one line as well\n",
    "print(a)\n",
    "print(b)"
   ]
  },
  {
   "cell_type": "code",
   "execution_count": 73,
   "id": "b7dbbb6d-708f-4ef9-8a51-ea9f6a3fe74d",
   "metadata": {},
   "outputs": [
    {
     "name": "stdout",
     "output_type": "stream",
     "text": [
      "5\n",
      "6\n"
     ]
    }
   ],
   "source": [
    "a = 5 \n",
    "b = 6\n",
    "print(a)\n",
    "print(b)"
   ]
  },
  {
   "cell_type": "code",
   "execution_count": 74,
   "id": "0e5d5811-fa5f-46d8-bb01-735d8272d595",
   "metadata": {},
   "outputs": [
    {
     "data": {
      "text/plain": [
       "5"
      ]
     },
     "execution_count": 74,
     "metadata": {},
     "output_type": "execute_result"
    }
   ],
   "source": [
    "a"
   ]
  },
  {
   "cell_type": "code",
   "execution_count": 75,
   "id": "e799a7cf-f460-4e81-8145-845de3440621",
   "metadata": {},
   "outputs": [
    {
     "data": {
      "text/plain": [
       "6"
      ]
     },
     "execution_count": 75,
     "metadata": {},
     "output_type": "execute_result"
    }
   ],
   "source": [
    "b"
   ]
  },
  {
   "cell_type": "markdown",
   "id": "efd3b7d9-8e45-4849-afaf-e27bdede8d26",
   "metadata": {},
   "source": [
    "## unary operator \n",
    "- unary means 1 || binary means 2\n",
    "- Here we are applying unary minus operator(-) on the operand n; the value of m becomes -7, which indicates it as a negative value."
   ]
  },
  {
   "cell_type": "code",
   "execution_count": 77,
   "id": "e085fecd-0f24-4348-bae0-31593c37e211",
   "metadata": {},
   "outputs": [
    {
     "data": {
      "text/plain": [
       "7"
      ]
     },
     "execution_count": 77,
     "metadata": {},
     "output_type": "execute_result"
    }
   ],
   "source": [
    "n = 7 #negattion\n",
    "n"
   ]
  },
  {
   "cell_type": "code",
   "execution_count": 78,
   "id": "974ad2cd-2639-4f23-abee-8062489f7f9e",
   "metadata": {},
   "outputs": [
    {
     "data": {
      "text/plain": [
       "-7"
      ]
     },
     "execution_count": 78,
     "metadata": {},
     "output_type": "execute_result"
    }
   ],
   "source": [
    "m = -(n)\n",
    "m"
   ]
  },
  {
   "cell_type": "markdown",
   "id": "0cd64b2d-1b2d-40e5-a128-6a6cd57ba4fc",
   "metadata": {},
   "source": [
    "# Relational operator \n",
    "we are using this operator for comparing"
   ]
  },
  {
   "cell_type": "code",
   "execution_count": 79,
   "id": "7a86ed2f-fd82-49ee-bc73-55ff2323970f",
   "metadata": {},
   "outputs": [],
   "source": [
    "a = 5\n",
    "b = 6"
   ]
  },
  {
   "cell_type": "code",
   "execution_count": 80,
   "id": "af36289c-d4dc-479e-96a8-102406d9983b",
   "metadata": {},
   "outputs": [
    {
     "data": {
      "text/plain": [
       "True"
      ]
     },
     "execution_count": 80,
     "metadata": {},
     "output_type": "execute_result"
    }
   ],
   "source": [
    "a<b"
   ]
  },
  {
   "cell_type": "code",
   "execution_count": 81,
   "id": "a3e2f079-6636-4364-8c69-f8f2bed4dad0",
   "metadata": {},
   "outputs": [
    {
     "data": {
      "text/plain": [
       "False"
      ]
     },
     "execution_count": 81,
     "metadata": {},
     "output_type": "execute_result"
    }
   ],
   "source": [
    "a>b"
   ]
  },
  {
   "cell_type": "code",
   "execution_count": 82,
   "id": "ae0b025f-195b-421b-8036-686d0db140c0",
   "metadata": {},
   "outputs": [
    {
     "data": {
      "text/plain": [
       "False"
      ]
     },
     "execution_count": 82,
     "metadata": {},
     "output_type": "execute_result"
    }
   ],
   "source": [
    "a == b"
   ]
  },
  {
   "cell_type": "code",
   "execution_count": 83,
   "id": "e0c6ecc2-c971-4551-882b-5cddca81dd9c",
   "metadata": {},
   "outputs": [
    {
     "data": {
      "text/plain": [
       "True"
      ]
     },
     "execution_count": 83,
     "metadata": {},
     "output_type": "execute_result"
    }
   ],
   "source": [
    "a != b"
   ]
  },
  {
   "cell_type": "code",
   "execution_count": 84,
   "id": "80aff4f3-46ce-4e3b-bd8e-d49034131214",
   "metadata": {},
   "outputs": [],
   "source": [
    "# hear if i change b = 6\n",
    "b = 5"
   ]
  },
  {
   "cell_type": "code",
   "execution_count": 85,
   "id": "0ca412ce-d214-459a-a328-4cd3f7d2d574",
   "metadata": {},
   "outputs": [
    {
     "data": {
      "text/plain": [
       "True"
      ]
     },
     "execution_count": 85,
     "metadata": {},
     "output_type": "execute_result"
    }
   ],
   "source": [
    "a == b"
   ]
  },
  {
   "cell_type": "code",
   "execution_count": 86,
   "id": "2bf23813-6296-44d9-ad7d-1ab099379410",
   "metadata": {},
   "outputs": [
    {
     "data": {
      "text/plain": [
       "5"
      ]
     },
     "execution_count": 86,
     "metadata": {},
     "output_type": "execute_result"
    }
   ],
   "source": [
    "a"
   ]
  },
  {
   "cell_type": "code",
   "execution_count": 87,
   "id": "c7e7b170-f802-47ea-8ed5-1082c4635bde",
   "metadata": {},
   "outputs": [
    {
     "data": {
      "text/plain": [
       "5"
      ]
     },
     "execution_count": 87,
     "metadata": {},
     "output_type": "execute_result"
    }
   ],
   "source": [
    "b"
   ]
  },
  {
   "cell_type": "code",
   "execution_count": 88,
   "id": "57f123b6-1fad-437e-bae6-944116194e8c",
   "metadata": {},
   "outputs": [
    {
     "data": {
      "text/plain": [
       "False"
      ]
     },
     "execution_count": 88,
     "metadata": {},
     "output_type": "execute_result"
    }
   ],
   "source": [
    "a > b"
   ]
  },
  {
   "cell_type": "code",
   "execution_count": 89,
   "id": "9d08d8c0-0f37-489b-8cf0-ba7dec950a23",
   "metadata": {},
   "outputs": [
    {
     "data": {
      "text/plain": [
       "True"
      ]
     },
     "execution_count": 89,
     "metadata": {},
     "output_type": "execute_result"
    }
   ],
   "source": [
    "a >= b"
   ]
  },
  {
   "cell_type": "code",
   "execution_count": 90,
   "id": "0fc5f86e-dd9a-4544-9114-a441746943ae",
   "metadata": {},
   "outputs": [
    {
     "data": {
      "text/plain": [
       "True"
      ]
     },
     "execution_count": 90,
     "metadata": {},
     "output_type": "execute_result"
    }
   ],
   "source": [
    "a <= b"
   ]
  },
  {
   "cell_type": "code",
   "execution_count": 91,
   "id": "99f052ec-4e29-49e1-8f7b-f1e7f786ae3a",
   "metadata": {},
   "outputs": [
    {
     "data": {
      "text/plain": [
       "False"
      ]
     },
     "execution_count": 91,
     "metadata": {},
     "output_type": "execute_result"
    }
   ],
   "source": [
    "a < b"
   ]
  },
  {
   "cell_type": "code",
   "execution_count": 92,
   "id": "431b8829-9904-495f-9a88-78771a29f05e",
   "metadata": {},
   "outputs": [
    {
     "data": {
      "text/plain": [
       "False"
      ]
     },
     "execution_count": 92,
     "metadata": {},
     "output_type": "execute_result"
    }
   ],
   "source": [
    "a>b"
   ]
  },
  {
   "cell_type": "code",
   "execution_count": 93,
   "id": "d4cfe5c0-a1f1-4c0d-8c5d-10892d2d753e",
   "metadata": {},
   "outputs": [],
   "source": [
    "b = 7"
   ]
  },
  {
   "cell_type": "code",
   "execution_count": 94,
   "id": "0cb97cfe-76bb-4932-8be5-2ae688ebc870",
   "metadata": {},
   "outputs": [
    {
     "data": {
      "text/plain": [
       "True"
      ]
     },
     "execution_count": 94,
     "metadata": {},
     "output_type": "execute_result"
    }
   ],
   "source": [
    "a != b"
   ]
  },
  {
   "cell_type": "markdown",
   "id": "783fc93a-262d-4f75-840a-0e20b0d4f996",
   "metadata": {},
   "source": [
    "## LOGICAL OPERATOR \n",
    "- logical operator you need to understand about true & false table \n",
    "- 3 importand part of logical operator is --> AND, OR, NOT\n",
    "\n",
    "\n"
   ]
  },
  {
   "cell_type": "code",
   "execution_count": 95,
   "id": "b2629fdd-13a7-4295-850a-2c6bc86834ff",
   "metadata": {},
   "outputs": [],
   "source": [
    "a = 5\n",
    "b = 4"
   ]
  },
  {
   "cell_type": "code",
   "execution_count": 96,
   "id": "5cd9e5aa-f8e9-4084-972d-6cc017ce3117",
   "metadata": {},
   "outputs": [
    {
     "data": {
      "text/plain": [
       "True"
      ]
     },
     "execution_count": 96,
     "metadata": {},
     "output_type": "execute_result"
    }
   ],
   "source": [
    "a < 8 and b < 5 #refer to the truth table "
   ]
  },
  {
   "cell_type": "code",
   "execution_count": 97,
   "id": "6c23db90-53ee-4500-8be2-eddb0efe6f8f",
   "metadata": {},
   "outputs": [
    {
     "data": {
      "text/plain": [
       "False"
      ]
     },
     "execution_count": 97,
     "metadata": {},
     "output_type": "execute_result"
    }
   ],
   "source": [
    "a < 8 and b < 2"
   ]
  },
  {
   "cell_type": "code",
   "execution_count": 98,
   "id": "486d4662-125e-4a0c-871f-4e44598b4a30",
   "metadata": {},
   "outputs": [
    {
     "data": {
      "text/plain": [
       "True"
      ]
     },
     "execution_count": 98,
     "metadata": {},
     "output_type": "execute_result"
    }
   ],
   "source": [
    "a < 8 or b < 2"
   ]
  },
  {
   "cell_type": "code",
   "execution_count": 99,
   "id": "a907696d-3ee2-49e6-ae87-ed6f726852fc",
   "metadata": {},
   "outputs": [
    {
     "data": {
      "text/plain": [
       "False"
      ]
     },
     "execution_count": 99,
     "metadata": {},
     "output_type": "execute_result"
    }
   ],
   "source": [
    "a>8 or b<2"
   ]
  },
  {
   "cell_type": "code",
   "execution_count": 100,
   "id": "0e043555-104c-4a80-8789-4fcddbe0761a",
   "metadata": {},
   "outputs": [
    {
     "data": {
      "text/plain": [
       "False"
      ]
     },
     "execution_count": 100,
     "metadata": {},
     "output_type": "execute_result"
    }
   ],
   "source": [
    "x = False\n",
    "x"
   ]
  },
  {
   "cell_type": "code",
   "execution_count": 101,
   "id": "1bc90053-cb96-42a8-aed4-4c1e54268b7d",
   "metadata": {},
   "outputs": [
    {
     "data": {
      "text/plain": [
       "True"
      ]
     },
     "execution_count": 101,
     "metadata": {},
     "output_type": "execute_result"
    }
   ],
   "source": [
    "not x  # you can reverse the operation"
   ]
  },
  {
   "cell_type": "code",
   "execution_count": 102,
   "id": "efc99ba8-4ce7-4d45-bdaa-76e2f5ad0a32",
   "metadata": {},
   "outputs": [
    {
     "data": {
      "text/plain": [
       "True"
      ]
     },
     "execution_count": 102,
     "metadata": {},
     "output_type": "execute_result"
    }
   ],
   "source": [
    "x = not x\n",
    "x"
   ]
  },
  {
   "cell_type": "code",
   "execution_count": 103,
   "id": "7742e820-3b8e-49c7-8075-61976619bf9b",
   "metadata": {},
   "outputs": [
    {
     "data": {
      "text/plain": [
       "True"
      ]
     },
     "execution_count": 103,
     "metadata": {},
     "output_type": "execute_result"
    }
   ],
   "source": [
    "x"
   ]
  },
  {
   "cell_type": "code",
   "execution_count": 104,
   "id": "32225aef-ea51-4b56-bb99-952b857acc41",
   "metadata": {},
   "outputs": [
    {
     "data": {
      "text/plain": [
       "False"
      ]
     },
     "execution_count": 104,
     "metadata": {},
     "output_type": "execute_result"
    }
   ],
   "source": [
    "not x"
   ]
  },
  {
   "cell_type": "markdown",
   "id": "3d4bffc4-5f1b-4293-948e-4956e43355df",
   "metadata": {},
   "source": [
    "## Number system coverstion (bit-binary digit)\n",
    "- In the programing we are using binary system, octal system, decimal system & hexadecimal system\n",
    "- but where do we use this in cmd - you can check your ip address & lets understand how to convert from one system to other system\n",
    "- when you check ipaddress you will these format --> cmd - ipconfig\n",
    "\n"
   ]
  },
  {
   "cell_type": "markdown",
   "id": "6cc9b976-2d48-4691-9329-173d91538b06",
   "metadata": {},
   "source": [
    "## Number system coverstion (bit-binary digit)\n",
    "- In the programing we are using binary system, octal system, decimal system & hexadecimal system\n",
    "- but where do we use this in cmd - you can check your ip address & lets understand how to convert from one system to other system\n",
    "- when you check ipaddress you will these format --> cmd - ipconfig\n",
    "\n"
   ]
  },
  {
   "cell_type": "markdown",
   "id": "275e0080-8494-433e-9676-0ef7db028f6d",
   "metadata": {},
   "source": [
    "binary : base (0-1) --> please divide 15/2 & count in reverse order \n",
    "ocatl : base (0-7)\n",
    "hexadecimal : base (0-9 & then a-f)\n",
    "\n"
   ]
  },
  {
   "cell_type": "code",
   "execution_count": 107,
   "id": "d2711287-53e0-4216-8375-df3a61cbd036",
   "metadata": {},
   "outputs": [
    {
     "data": {
      "text/plain": [
       "'0b11001'"
      ]
     },
     "execution_count": 107,
     "metadata": {},
     "output_type": "execute_result"
    }
   ],
   "source": [
    "bin(25)"
   ]
  },
  {
   "cell_type": "code",
   "execution_count": 108,
   "id": "99015e45-1b9f-4e11-93d6-d4f99d355c4a",
   "metadata": {},
   "outputs": [
    {
     "data": {
      "text/plain": [
       "25"
      ]
     },
     "execution_count": 108,
     "metadata": {},
     "output_type": "execute_result"
    }
   ],
   "source": [
    "int(0b11001)"
   ]
  },
  {
   "cell_type": "code",
   "execution_count": 110,
   "id": "d72a4ec6-2d82-49c3-ba06-56ebffca096d",
   "metadata": {},
   "outputs": [
    {
     "data": {
      "text/plain": [
       "'0b11110'"
      ]
     },
     "execution_count": 110,
     "metadata": {},
     "output_type": "execute_result"
    }
   ],
   "source": [
    "bin(30)"
   ]
  },
  {
   "cell_type": "code",
   "execution_count": 111,
   "id": "4a079eea-007f-48c2-be59-d612550075e7",
   "metadata": {},
   "outputs": [
    {
     "data": {
      "text/plain": [
       "30"
      ]
     },
     "execution_count": 111,
     "metadata": {},
     "output_type": "execute_result"
    }
   ],
   "source": [
    "int(0b11110)"
   ]
  },
  {
   "cell_type": "code",
   "execution_count": 113,
   "id": "4eff4d17-b894-4b98-a1c5-ff7bb7d574e3",
   "metadata": {},
   "outputs": [
    {
     "data": {
      "text/plain": [
       "25"
      ]
     },
     "execution_count": 113,
     "metadata": {},
     "output_type": "execute_result"
    }
   ],
   "source": [
    "int(0b11001)"
   ]
  },
  {
   "cell_type": "code",
   "execution_count": 115,
   "id": "d6c6d740-333c-4a9f-b5dc-64742b6aa052",
   "metadata": {},
   "outputs": [
    {
     "data": {
      "text/plain": [
       "'0o31'"
      ]
     },
     "execution_count": 115,
     "metadata": {},
     "output_type": "execute_result"
    }
   ],
   "source": [
    "oct(25)"
   ]
  },
  {
   "cell_type": "code",
   "execution_count": 117,
   "id": "fa4e4cc5-7e9d-4f0e-aa46-8dd524713336",
   "metadata": {},
   "outputs": [
    {
     "data": {
      "text/plain": [
       "25"
      ]
     },
     "execution_count": 117,
     "metadata": {},
     "output_type": "execute_result"
    }
   ],
   "source": [
    "int(0o31)"
   ]
  },
  {
   "cell_type": "code",
   "execution_count": 119,
   "id": "3533164a-59f9-44c2-8786-23e0935496e6",
   "metadata": {},
   "outputs": [
    {
     "data": {
      "text/plain": [
       "30"
      ]
     },
     "execution_count": 119,
     "metadata": {},
     "output_type": "execute_result"
    }
   ],
   "source": [
    "int(0b11110)"
   ]
  },
  {
   "cell_type": "code",
   "execution_count": 120,
   "id": "41f54ec0-348f-41f0-8ec4-26373e9fd68e",
   "metadata": {},
   "outputs": [
    {
     "data": {
      "text/plain": [
       "25"
      ]
     },
     "execution_count": 120,
     "metadata": {},
     "output_type": "execute_result"
    }
   ],
   "source": [
    "0o31"
   ]
  },
  {
   "cell_type": "code",
   "execution_count": 121,
   "id": "a9d2b97f-1f33-448e-b7fe-fc86d82e0f95",
   "metadata": {},
   "outputs": [
    {
     "data": {
      "text/plain": [
       "25"
      ]
     },
     "execution_count": 121,
     "metadata": {},
     "output_type": "execute_result"
    }
   ],
   "source": [
    "0b11001"
   ]
  },
  {
   "cell_type": "code",
   "execution_count": 122,
   "id": "07b2b092-97c0-446f-b973-f500bc9f763b",
   "metadata": {},
   "outputs": [
    {
     "data": {
      "text/plain": [
       "25"
      ]
     },
     "execution_count": 122,
     "metadata": {},
     "output_type": "execute_result"
    }
   ],
   "source": [
    "int(0b11001)"
   ]
  },
  {
   "cell_type": "code",
   "execution_count": 123,
   "id": "5e135735-ec42-4e56-b24c-47a356cad909",
   "metadata": {},
   "outputs": [
    {
     "data": {
      "text/plain": [
       "'0b111'"
      ]
     },
     "execution_count": 123,
     "metadata": {},
     "output_type": "execute_result"
    }
   ],
   "source": [
    "bin(7)"
   ]
  },
  {
   "cell_type": "code",
   "execution_count": 124,
   "id": "3e69ba0c-ea12-41f8-af47-ef4dbb5abc8b",
   "metadata": {},
   "outputs": [
    {
     "data": {
      "text/plain": [
       "'0o31'"
      ]
     },
     "execution_count": 124,
     "metadata": {},
     "output_type": "execute_result"
    }
   ],
   "source": [
    "oct(25)"
   ]
  },
  {
   "cell_type": "code",
   "execution_count": 125,
   "id": "b75b0dc3-4171-4455-8b12-0862c8f412a4",
   "metadata": {},
   "outputs": [
    {
     "data": {
      "text/plain": [
       "25"
      ]
     },
     "execution_count": 125,
     "metadata": {},
     "output_type": "execute_result"
    }
   ],
   "source": [
    "0o31"
   ]
  },
  {
   "cell_type": "code",
   "execution_count": 126,
   "id": "cd58e0aa-21a0-4799-abd1-db8dda3882ea",
   "metadata": {},
   "outputs": [
    {
     "data": {
      "text/plain": [
       "25"
      ]
     },
     "execution_count": 126,
     "metadata": {},
     "output_type": "execute_result"
    }
   ],
   "source": [
    "int(0o31)"
   ]
  },
  {
   "cell_type": "code",
   "execution_count": 127,
   "id": "f136ff87-8993-4aef-90ae-cdb0a58fabbe",
   "metadata": {},
   "outputs": [
    {
     "data": {
      "text/plain": [
       "'0x19'"
      ]
     },
     "execution_count": 127,
     "metadata": {},
     "output_type": "execute_result"
    }
   ],
   "source": [
    "hex(25)"
   ]
  },
  {
   "cell_type": "code",
   "execution_count": 128,
   "id": "afe66e34-6c34-43c5-8020-ccfd3049bec9",
   "metadata": {},
   "outputs": [
    {
     "data": {
      "text/plain": [
       "25"
      ]
     },
     "execution_count": 128,
     "metadata": {},
     "output_type": "execute_result"
    }
   ],
   "source": [
    "0x19"
   ]
  },
  {
   "cell_type": "code",
   "execution_count": 129,
   "id": "d2bfcd3f-da4a-4dc4-a879-3c331ad4d6f6",
   "metadata": {},
   "outputs": [
    {
     "data": {
      "text/plain": [
       "'0x10'"
      ]
     },
     "execution_count": 129,
     "metadata": {},
     "output_type": "execute_result"
    }
   ],
   "source": [
    "hex(16)"
   ]
  },
  {
   "cell_type": "code",
   "execution_count": 130,
   "id": "709e6da1-c397-4db7-839e-d4b63ee0b0be",
   "metadata": {},
   "outputs": [
    {
     "data": {
      "text/plain": [
       "10"
      ]
     },
     "execution_count": 130,
     "metadata": {},
     "output_type": "execute_result"
    }
   ],
   "source": [
    "0xa"
   ]
  },
  {
   "cell_type": "code",
   "execution_count": 131,
   "id": "7c306ce5-1135-4203-ad99-12983d8eef09",
   "metadata": {},
   "outputs": [
    {
     "data": {
      "text/plain": [
       "11"
      ]
     },
     "execution_count": 131,
     "metadata": {},
     "output_type": "execute_result"
    }
   ],
   "source": [
    "0xb"
   ]
  },
  {
   "cell_type": "code",
   "execution_count": 132,
   "id": "7c39ae3f-ce58-40a1-9173-b4202d1d7720",
   "metadata": {},
   "outputs": [
    {
     "data": {
      "text/plain": [
       "'0x1'"
      ]
     },
     "execution_count": 132,
     "metadata": {},
     "output_type": "execute_result"
    }
   ],
   "source": [
    "hex(1)"
   ]
  },
  {
   "cell_type": "code",
   "execution_count": 133,
   "id": "c414ac87-cfb7-4a54-90e1-f55d6f657d70",
   "metadata": {},
   "outputs": [
    {
     "data": {
      "text/plain": [
       "'0x19'"
      ]
     },
     "execution_count": 133,
     "metadata": {},
     "output_type": "execute_result"
    }
   ],
   "source": [
    "hex(25)"
   ]
  },
  {
   "cell_type": "code",
   "execution_count": 134,
   "id": "e0656ca3-1ea5-4838-bb62-0aca678b158c",
   "metadata": {},
   "outputs": [
    {
     "data": {
      "text/plain": [
       "25"
      ]
     },
     "execution_count": 134,
     "metadata": {},
     "output_type": "execute_result"
    }
   ],
   "source": [
    "0x19"
   ]
  },
  {
   "cell_type": "code",
   "execution_count": 135,
   "id": "55500d7f-733f-4024-a420-f2626c1a6a6f",
   "metadata": {},
   "outputs": [
    {
     "data": {
      "text/plain": [
       "21"
      ]
     },
     "execution_count": 135,
     "metadata": {},
     "output_type": "execute_result"
    }
   ],
   "source": [
    "0x15"
   ]
  },
  {
   "cell_type": "markdown",
   "id": "7ee8bc47-1ec7-4de2-96d7-5df9bf204bf3",
   "metadata": {},
   "source": [
    "## swap 2-variable in python \n",
    "\n",
    "(a,b = 5,6) After swap we should get  ==> (a, b = 6,5 )"
   ]
  },
  {
   "cell_type": "code",
   "execution_count": 142,
   "id": "76f411b8-cae2-442e-a7c0-0466c57b2ea5",
   "metadata": {},
   "outputs": [
    {
     "name": "stdout",
     "output_type": "stream",
     "text": [
      "5\n",
      "6\n"
     ]
    }
   ],
   "source": [
    "a = 5\n",
    "b = 6\n",
    "print(a)\n",
    "print(b)"
   ]
  },
  {
   "cell_type": "code",
   "execution_count": 143,
   "id": "fc4ba66a-a468-449c-a735-3acd9ebdfa47",
   "metadata": {},
   "outputs": [
    {
     "name": "stdout",
     "output_type": "stream",
     "text": [
      "6\n",
      "6\n"
     ]
    }
   ],
   "source": [
    "a = b\n",
    "b = a\n",
    "print(a)\n",
    "print(b)"
   ]
  },
  {
   "cell_type": "code",
   "execution_count": 145,
   "id": "bde9e4e5-3903-4095-9b14-1c05c1fac29a",
   "metadata": {},
   "outputs": [
    {
     "name": "stdout",
     "output_type": "stream",
     "text": [
      "6\n",
      "5\n"
     ]
    }
   ],
   "source": [
    "a = 5\n",
    "b = 6\n",
    "temp = a \n",
    "a = b\n",
    "b = temp\n",
    "print(a)\n",
    "print(b)"
   ]
  },
  {
   "cell_type": "code",
   "execution_count": 153,
   "id": "db390bde-c646-4784-a4d6-17265f693296",
   "metadata": {},
   "outputs": [
    {
     "name": "stdout",
     "output_type": "stream",
     "text": [
      "a2 =  5\n",
      "b2 =  6\n",
      "--------------\n",
      "After swap\n",
      "a2 =  6\n",
      "b2 =  5\n"
     ]
    }
   ],
   "source": [
    "a2 = 5\n",
    "b2 = 6\n",
    "print(\"a2 = \",  a2)\n",
    "print(\"b2 = \", b2)\n",
    "print('--------------')\n",
    "print('After swap')\n",
    "#swap variable formulas without using 3rd formul\n",
    "a2 = a2 + b2 # 5+6 = 11\n",
    "b2 = a2 - b2 # 11-6 = 5\n",
    "a2 = a2 - b2 # 11-5 = 6 \n",
    "print(\"a2 = \",  a2)\n",
    "print(\"b2 = \", b2)0b110"
   ]
  },
  {
   "cell_type": "code",
   "execution_count": 154,
   "id": "3903de69-6f60-4f43-b1c4-b3f1f75a955c",
   "metadata": {},
   "outputs": [
    {
     "data": {
      "text/plain": [
       "6"
      ]
     },
     "execution_count": 154,
     "metadata": {},
     "output_type": "execute_result"
    }
   ],
   "source": [
    "0b110"
   ]
  },
  {
   "cell_type": "code",
   "execution_count": 155,
   "id": "8770e54d-e16a-441c-a6b6-3e814cb7a46c",
   "metadata": {},
   "outputs": [
    {
     "data": {
      "text/plain": [
       "5"
      ]
     },
     "execution_count": 155,
     "metadata": {},
     "output_type": "execute_result"
    }
   ],
   "source": [
    "0b101"
   ]
  },
  {
   "cell_type": "code",
   "execution_count": 156,
   "id": "c599a20c-0893-435a-8e59-4069e0e7fc1f",
   "metadata": {},
   "outputs": [
    {
     "name": "stdout",
     "output_type": "stream",
     "text": [
      "6\n",
      "5\n"
     ]
    }
   ],
   "source": [
    "print(0b110)\n",
    "print(0b101)"
   ]
  },
  {
   "cell_type": "code",
   "execution_count": 157,
   "id": "a57f0aa7-dc9d-4075-95ec-742d6a9522ad",
   "metadata": {},
   "outputs": [
    {
     "name": "stdout",
     "output_type": "stream",
     "text": [
      "5\n",
      "6\n"
     ]
    }
   ],
   "source": [
    "print(0b101)\n",
    "print(0b110)"
   ]
  },
  {
   "cell_type": "code",
   "execution_count": 158,
   "id": "bdedbfa0-492e-4865-8bdd-0cbc9d4c4c53",
   "metadata": {},
   "outputs": [
    {
     "name": "stdout",
     "output_type": "stream",
     "text": [
      "0b1011\n",
      "11\n"
     ]
    }
   ],
   "source": [
    "#but when we use a2 + b2 then we get 11 that means we will get 4 bit which is 1 bit extra \n",
    "print(bin(11))\n",
    "print(0b1011)"
   ]
  },
  {
   "cell_type": "markdown",
   "id": "74ff0733-ba1b-461f-93a8-a0e0f33f5ed8",
   "metadata": {},
   "source": [
    "## XOR"
   ]
  },
  {
   "cell_type": "code",
   "execution_count": 159,
   "id": "175be36e-fde2-4170-abb6-63f9742fa9bc",
   "metadata": {},
   "outputs": [
    {
     "name": "stdout",
     "output_type": "stream",
     "text": [
      "6\n",
      "5\n"
     ]
    }
   ],
   "source": [
    "print(a2)\n",
    "print(b2)"
   ]
  },
  {
   "cell_type": "code",
   "execution_count": 163,
   "id": "9883260f-3970-43c9-af8b-0dfed96856fa",
   "metadata": {},
   "outputs": [
    {
     "name": "stdout",
     "output_type": "stream",
     "text": [
      "5\n",
      "6\n"
     ]
    }
   ],
   "source": [
    "#there is other way to work using swap variable also which is XOR because it will not waste extra bit \n",
    "a2 = a2 ^ b2\n",
    "b2 = a2 ^ b2\n",
    "a2 = a2 ^ b2\n",
    "print(a2)\n",
    "print(b2)"
   ]
  },
  {
   "cell_type": "code",
   "execution_count": 165,
   "id": "e6130e2e-8d80-4a12-bbb4-7666ddb75a8a",
   "metadata": {},
   "outputs": [
    {
     "name": "stdout",
     "output_type": "stream",
     "text": [
      "5\n",
      "6\n"
     ]
    }
   ],
   "source": [
    "a2 , b2 = b2, a2 # how it work is b2 6 a2 is 5 first it goes into stack & then it reverse the 2 vlaues\n",
    "print(a2)\n",
    "print(b2)"
   ]
  },
  {
   "cell_type": "code",
   "execution_count": 166,
   "id": "5191df42-c9d0-4292-a5d9-53ab5547488d",
   "metadata": {},
   "outputs": [
    {
     "name": "stdout",
     "output_type": "stream",
     "text": [
      "0b1100\n",
      "0b1101\n"
     ]
    }
   ],
   "source": [
    "print(bin(12))\n",
    "print(bin(13))"
   ]
  },
  {
   "cell_type": "code",
   "execution_count": 167,
   "id": "e4545889-b7bb-46bc-b9dd-fa7c701278ce",
   "metadata": {},
   "outputs": [
    {
     "data": {
      "text/plain": [
       "-13"
      ]
     },
     "execution_count": 167,
     "metadata": {},
     "output_type": "execute_result"
    }
   ],
   "source": [
    "# COMPLEMENT (~) (TILDE  OR TILD)\n",
    "~12 # why we get -13 . first we understand what is complment means (reversr of binary format)"
   ]
  },
  {
   "cell_type": "code",
   "execution_count": 168,
   "id": "0c8f1e18-6fb3-44fe-9651-818d0a8d997c",
   "metadata": {},
   "outputs": [
    {
     "data": {
      "text/plain": [
       "-13"
      ]
     },
     "execution_count": 168,
     "metadata": {},
     "output_type": "execute_result"
    }
   ],
   "source": [
    "# COMPLEMENT (~) (TILDE  OR TILD)\n",
    "~12 # why we get -13 . first we understand what is complment means (reversr of binary format)"
   ]
  },
  {
   "cell_type": "code",
   "execution_count": 173,
   "id": "bb4d364c-a162-4efd-b8b2-7c34e40a9336",
   "metadata": {},
   "outputs": [
    {
     "data": {
      "text/plain": [
       "-47"
      ]
     },
     "execution_count": 173,
     "metadata": {},
     "output_type": "execute_result"
    }
   ],
   "source": [
    "~46"
   ]
  },
  {
   "cell_type": "code",
   "execution_count": 171,
   "id": "b330f09c-6d1e-49b0-83c8-88b9e9eea39e",
   "metadata": {},
   "outputs": [
    {
     "data": {
      "text/plain": [
       "'0b101110'"
      ]
     },
     "execution_count": 171,
     "metadata": {},
     "output_type": "execute_result"
    }
   ],
   "source": [
    "bin(46)"
   ]
  },
  {
   "cell_type": "code",
   "execution_count": 174,
   "id": "2d26f0c4-d739-47a5-950a-c2c16f1a5cf3",
   "metadata": {},
   "outputs": [
    {
     "data": {
      "text/plain": [
       "'-0b101111'"
      ]
     },
     "execution_count": 174,
     "metadata": {},
     "output_type": "execute_result"
    }
   ],
   "source": [
    "bin(~46)"
   ]
  },
  {
   "cell_type": "code",
   "execution_count": 175,
   "id": "9965e7a4-2b7a-4d81-ac26-843a0763055b",
   "metadata": {},
   "outputs": [
    {
     "data": {
      "text/plain": [
       "'-0b101111'"
      ]
     },
     "execution_count": 175,
     "metadata": {},
     "output_type": "execute_result"
    }
   ],
   "source": [
    "bin(~46)"
   ]
  },
  {
   "cell_type": "code",
   "execution_count": 177,
   "id": "795de2ad-8e39-44a9-90cb-ef94fa150f85",
   "metadata": {},
   "outputs": [
    {
     "data": {
      "text/plain": [
       "-47"
      ]
     },
     "execution_count": 177,
     "metadata": {},
     "output_type": "execute_result"
    }
   ],
   "source": [
    "int(-0b101111)"
   ]
  },
  {
   "cell_type": "code",
   "execution_count": 181,
   "id": "8ee22e73-eb74-4ca4-9472-35d863b340f6",
   "metadata": {},
   "outputs": [
    {
     "data": {
      "text/plain": [
       "-47"
      ]
     },
     "execution_count": 181,
     "metadata": {},
     "output_type": "execute_result"
    }
   ],
   "source": [
    "~46"
   ]
  },
  {
   "cell_type": "markdown",
   "id": "673d2e9e-acae-4107-8b02-4ab38ae9e538",
   "metadata": {},
   "source": [
    "# bit wise and operator \n",
    "\n",
    "AND - LOGICAL OPERATOR ||| & - BITWISE AND OPERATOR  \n",
    "(we know that 1 & 1 is 1)\n",
    "12 - 00001100 \n",
    "13 - 00001101\n",
    "when we are add both then then outut we will get as 12 \n",
    "\n",
    "\n"
   ]
  },
  {
   "cell_type": "code",
   "execution_count": 182,
   "id": "bd2ce248-1ce2-4c91-bd2f-5c594042bf9e",
   "metadata": {},
   "outputs": [
    {
     "data": {
      "text/plain": [
       "12"
      ]
     },
     "execution_count": 182,
     "metadata": {},
     "output_type": "execute_result"
    }
   ],
   "source": [
    "12 & 13"
   ]
  },
  {
   "cell_type": "code",
   "execution_count": 183,
   "id": "34c505c6-73a7-4769-b563-7f9c3a924d43",
   "metadata": {},
   "outputs": [
    {
     "data": {
      "text/plain": [
       "13"
      ]
     },
     "execution_count": 183,
     "metadata": {},
     "output_type": "execute_result"
    }
   ],
   "source": [
    "12 | 13"
   ]
  },
  {
   "cell_type": "code",
   "execution_count": 184,
   "id": "3386bb91-66b1-4a35-ac4c-3b1574747d75",
   "metadata": {},
   "outputs": [
    {
     "data": {
      "text/plain": [
       "0"
      ]
     },
     "execution_count": 184,
     "metadata": {},
     "output_type": "execute_result"
    }
   ],
   "source": [
    "1 & 0"
   ]
  },
  {
   "cell_type": "code",
   "execution_count": 185,
   "id": "1c9589d6-132d-42b7-b2ca-0371aa402ea1",
   "metadata": {},
   "outputs": [
    {
     "data": {
      "text/plain": [
       "1"
      ]
     },
     "execution_count": 185,
     "metadata": {},
     "output_type": "execute_result"
    }
   ],
   "source": [
    "1 | 0"
   ]
  },
  {
   "cell_type": "code",
   "execution_count": 186,
   "id": "ccddda12-91f9-4302-be85-7d1438550e31",
   "metadata": {},
   "outputs": [
    {
     "data": {
      "text/plain": [
       "'0b1101'"
      ]
     },
     "execution_count": 186,
     "metadata": {},
     "output_type": "execute_result"
    }
   ],
   "source": [
    "bin(13)"
   ]
  },
  {
   "cell_type": "code",
   "execution_count": 187,
   "id": "dda33488-4b97-413f-9df9-f504924ac281",
   "metadata": {},
   "outputs": [
    {
     "name": "stdout",
     "output_type": "stream",
     "text": [
      "0b100011\n",
      "0b101000\n"
     ]
    }
   ],
   "source": [
    "print(bin(35))\n",
    "print(bin(40))"
   ]
  },
  {
   "cell_type": "code",
   "execution_count": 188,
   "id": "001adb42-46a9-458b-b40e-b40aec507849",
   "metadata": {},
   "outputs": [
    {
     "data": {
      "text/plain": [
       "32"
      ]
     },
     "execution_count": 188,
     "metadata": {},
     "output_type": "execute_result"
    }
   ],
   "source": [
    "35 & 40 #please do the homework conververt 35,40 to binary format "
   ]
  },
  {
   "cell_type": "code",
   "execution_count": 189,
   "id": "d4f3aaeb-b634-46ed-9eaa-c5417fac886b",
   "metadata": {},
   "outputs": [
    {
     "data": {
      "text/plain": [
       "43"
      ]
     },
     "execution_count": 189,
     "metadata": {},
     "output_type": "execute_result"
    }
   ],
   "source": [
    "35 | 40"
   ]
  },
  {
   "cell_type": "code",
   "execution_count": 190,
   "id": "484fc6c4-f644-4a96-9688-ad95cece2907",
   "metadata": {},
   "outputs": [
    {
     "data": {
      "text/plain": [
       "1"
      ]
     },
     "execution_count": 190,
     "metadata": {},
     "output_type": "execute_result"
    }
   ],
   "source": [
    "# in XOR if the both number are different then we will get 1 or else we will get 0\n",
    "12 ^ 13"
   ]
  },
  {
   "cell_type": "code",
   "execution_count": 191,
   "id": "0fe8269e-50ae-44dc-b491-049c1d1f8f49",
   "metadata": {},
   "outputs": [
    {
     "name": "stdout",
     "output_type": "stream",
     "text": [
      "0b11001\n",
      "0b11110\n"
     ]
    }
   ],
   "source": [
    "print(bin(25))\n",
    "print(bin(30))"
   ]
  },
  {
   "cell_type": "code",
   "execution_count": 192,
   "id": "982d7552-30a6-4d16-992d-644203d524fd",
   "metadata": {},
   "outputs": [
    {
     "data": {
      "text/plain": [
       "7"
      ]
     },
     "execution_count": 192,
     "metadata": {},
     "output_type": "execute_result"
    }
   ],
   "source": [
    "25^30"
   ]
  },
  {
   "cell_type": "code",
   "execution_count": 193,
   "id": "da9c0c2c-cc66-4d9e-bde7-2a5338d86a4f",
   "metadata": {},
   "outputs": [
    {
     "data": {
      "text/plain": [
       "'0b111'"
      ]
     },
     "execution_count": 193,
     "metadata": {},
     "output_type": "execute_result"
    }
   ],
   "source": [
    "bin(7)"
   ]
  },
  {
   "cell_type": "code",
   "execution_count": 194,
   "id": "b6a94635-91a4-4187-b25e-b5d055673fe4",
   "metadata": {},
   "outputs": [
    {
     "data": {
      "text/plain": [
       "'0b11001'"
      ]
     },
     "execution_count": 194,
     "metadata": {},
     "output_type": "execute_result"
    }
   ],
   "source": [
    "bin(25)"
   ]
  },
  {
   "cell_type": "code",
   "execution_count": 195,
   "id": "8f5edce5-2f5b-4373-a437-3181135a81d9",
   "metadata": {},
   "outputs": [
    {
     "data": {
      "text/plain": [
       "'0b11110'"
      ]
     },
     "execution_count": 195,
     "metadata": {},
     "output_type": "execute_result"
    }
   ],
   "source": [
    "bin(30)"
   ]
  },
  {
   "cell_type": "code",
   "execution_count": 196,
   "id": "5c9e3422-e18e-4f17-b118-c99a44ad9b91",
   "metadata": {},
   "outputs": [
    {
     "data": {
      "text/plain": [
       "'0b1010'"
      ]
     },
     "execution_count": 196,
     "metadata": {},
     "output_type": "execute_result"
    }
   ],
   "source": [
    "bin(10)"
   ]
  },
  {
   "cell_type": "code",
   "execution_count": 197,
   "id": "36f9df45-6fdd-431b-b523-148c424f436e",
   "metadata": {},
   "outputs": [
    {
     "data": {
      "text/plain": [
       "20"
      ]
     },
     "execution_count": 197,
     "metadata": {},
     "output_type": "execute_result"
    }
   ],
   "source": [
    "10<<1"
   ]
  },
  {
   "cell_type": "code",
   "execution_count": 198,
   "id": "c3fc4f2a-8b53-4d26-a8c5-900b476d7c6a",
   "metadata": {},
   "outputs": [
    {
     "data": {
      "text/plain": [
       "40"
      ]
     },
     "execution_count": 198,
     "metadata": {},
     "output_type": "execute_result"
    }
   ],
   "source": [
    "10<<2"
   ]
  },
  {
   "cell_type": "code",
   "execution_count": 199,
   "id": "e360143e-7a10-4415-853d-b6fb780a5520",
   "metadata": {},
   "outputs": [
    {
     "data": {
      "text/plain": [
       "'0b1010'"
      ]
     },
     "execution_count": 199,
     "metadata": {},
     "output_type": "execute_result"
    }
   ],
   "source": [
    "bin(10)"
   ]
  },
  {
   "cell_type": "code",
   "execution_count": 200,
   "id": "85696495-a9f6-4579-9097-cb014dd18e09",
   "metadata": {},
   "outputs": [
    {
     "data": {
      "text/plain": [
       "20"
      ]
     },
     "execution_count": 200,
     "metadata": {},
     "output_type": "execute_result"
    }
   ],
   "source": [
    "10<<1"
   ]
  },
  {
   "cell_type": "code",
   "execution_count": 201,
   "id": "89b4a335-8a57-421b-89ad-1325c44900d9",
   "metadata": {},
   "outputs": [
    {
     "data": {
      "text/plain": [
       "40"
      ]
     },
     "execution_count": 201,
     "metadata": {},
     "output_type": "execute_result"
    }
   ],
   "source": [
    "10<<2 "
   ]
  },
  {
   "cell_type": "code",
   "execution_count": 202,
   "id": "0a81987c-c69f-4b9a-9892-9cb25e0af7f3",
   "metadata": {},
   "outputs": [
    {
     "data": {
      "text/plain": [
       "40"
      ]
     },
     "execution_count": 202,
     "metadata": {},
     "output_type": "execute_result"
    }
   ],
   "source": [
    "# BIT WISE LEFT SHIFT OPERATOR \n",
    "# in left shift what we need to to we need shift in left hand side & need to shift 2 bits\n",
    "#bit wise left operator bydefault you will take 2 zeros ( )\n",
    "#10 binary operator is 1010 | also i can say 1010\n",
    "10<<2"
   ]
  },
  {
   "cell_type": "code",
   "execution_count": 203,
   "id": "74ae4477-6b7d-432d-bdd1-945b61297652",
   "metadata": {},
   "outputs": [
    {
     "data": {
      "text/plain": [
       "80"
      ]
     },
     "execution_count": 203,
     "metadata": {},
     "output_type": "execute_result"
    }
   ],
   "source": [
    "10<<3"
   ]
  },
  {
   "cell_type": "code",
   "execution_count": 204,
   "id": "597ad22f-c0a4-4efa-9bed-6d3264a7c43a",
   "metadata": {},
   "outputs": [
    {
     "data": {
      "text/plain": [
       "'0b10100'"
      ]
     },
     "execution_count": 204,
     "metadata": {},
     "output_type": "execute_result"
    }
   ],
   "source": [
    "bin(20)"
   ]
  },
  {
   "cell_type": "markdown",
   "id": "6c0fc972-b04e-407a-a5bc-7082bb2d00c8",
   "metadata": {},
   "source": [
    "# BITWISE RIGHTSHIFT OPERATOR\n",
    "- left side we are gaining the bits\n",
    "- right side we are lossing bits\n",
    "\n"
   ]
  },
  {
   "cell_type": "markdown",
   "id": "99575550-1e73-4baa-8a04-d4d51cf7afbf",
   "metadata": {},
   "source": [
    "# BITWISE RIGHTSHIFT OPERATOR\n"
   ]
  },
  {
   "cell_type": "code",
   "execution_count": 206,
   "id": "ec008606-20ee-4475-8b42-5b552aeb5129",
   "metadata": {},
   "outputs": [],
   "source": [
    "# left side we are gaining the bits\n",
    "# right side we are lossing bits"
   ]
  },
  {
   "cell_type": "code",
   "execution_count": null,
   "id": "566c57f6-f83e-4e00-a456-24efb4295b91",
   "metadata": {},
   "outputs": [],
   "source": []
  },
  {
   "cell_type": "code",
   "execution_count": 207,
   "id": "6e1c4000-297e-4cde-a52e-8cfb81f35b5e",
   "metadata": {},
   "outputs": [
    {
     "data": {
      "text/plain": [
       "'0b1010'"
      ]
     },
     "execution_count": 207,
     "metadata": {},
     "output_type": "execute_result"
    }
   ],
   "source": [
    "bin(10)"
   ]
  },
  {
   "cell_type": "code",
   "execution_count": 208,
   "id": "626c19c5-d0b3-4f78-b4b7-4880819aa010",
   "metadata": {},
   "outputs": [
    {
     "data": {
      "text/plain": [
       "5"
      ]
     },
     "execution_count": 208,
     "metadata": {},
     "output_type": "execute_result"
    }
   ],
   "source": [
    "10 >> 1"
   ]
  },
  {
   "cell_type": "code",
   "execution_count": 209,
   "id": "d5d8d445-71e7-43f4-8b6c-1361a9d0b0a9",
   "metadata": {},
   "outputs": [
    {
     "data": {
      "text/plain": [
       "2"
      ]
     },
     "execution_count": 209,
     "metadata": {},
     "output_type": "execute_result"
    }
   ],
   "source": [
    "10>>2"
   ]
  },
  {
   "cell_type": "code",
   "execution_count": 210,
   "id": "8aa3e1d2-7e75-4b20-8160-011bf3656106",
   "metadata": {},
   "outputs": [
    {
     "data": {
      "text/plain": [
       "1"
      ]
     },
     "execution_count": 210,
     "metadata": {},
     "output_type": "execute_result"
    }
   ],
   "source": [
    "10>>3"
   ]
  },
  {
   "cell_type": "code",
   "execution_count": 211,
   "id": "3b5f11a3-df48-45ef-acd8-ee95944b4976",
   "metadata": {},
   "outputs": [
    {
     "data": {
      "text/plain": [
       "'0b10100'"
      ]
     },
     "execution_count": 211,
     "metadata": {},
     "output_type": "execute_result"
    }
   ],
   "source": [
    "bin(20)"
   ]
  },
  {
   "cell_type": "code",
   "execution_count": null,
   "id": "c91f29e0-7555-4d0e-a60e-f49c928a2452",
   "metadata": {},
   "outputs": [],
   "source": []
  }
 ],
 "metadata": {
  "kernelspec": {
   "display_name": "Python [conda env:base] *",
   "language": "python",
   "name": "conda-base-py"
  },
  "language_info": {
   "codemirror_mode": {
    "name": "ipython",
    "version": 3
   },
   "file_extension": ".py",
   "mimetype": "text/x-python",
   "name": "python",
   "nbconvert_exporter": "python",
   "pygments_lexer": "ipython3",
   "version": "3.12.7"
  }
 },
 "nbformat": 4,
 "nbformat_minor": 5
}
