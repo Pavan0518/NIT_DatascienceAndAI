{
 "cells": [
  {
   "cell_type": "markdown",
   "id": "074debb6-09c6-423d-91c8-73ab0be1b755",
   "metadata": {},
   "source": [
    "## List DataStructure"
   ]
  },
  {
   "cell_type": "code",
   "execution_count": 168,
   "id": "97a1bf67-6345-4c92-966c-4d171811284c",
   "metadata": {},
   "outputs": [
    {
     "data": {
      "text/plain": [
       "[]"
      ]
     },
     "execution_count": 168,
     "metadata": {},
     "output_type": "execute_result"
    }
   ],
   "source": [
    "l = []\n",
    "l"
   ]
  },
  {
   "cell_type": "code",
   "execution_count": 169,
   "id": "077b913a-01fa-4a24-8e7a-1448e199da5b",
   "metadata": {},
   "outputs": [
    {
     "data": {
      "text/plain": [
       "list"
      ]
     },
     "execution_count": 169,
     "metadata": {},
     "output_type": "execute_result"
    }
   ],
   "source": [
    "type(l)"
   ]
  },
  {
   "cell_type": "code",
   "execution_count": 170,
   "id": "9cfd440d-875e-4567-ac54-e78dffde0396",
   "metadata": {},
   "outputs": [
    {
     "name": "stdout",
     "output_type": "stream",
     "text": [
      "<class 'list'>\n"
     ]
    }
   ],
   "source": [
    "print(type(l))"
   ]
  },
  {
   "cell_type": "code",
   "execution_count": 171,
   "id": "76d5e04d-57ed-41fc-b615-355327cb372a",
   "metadata": {},
   "outputs": [
    {
     "data": {
      "text/plain": [
       "0"
      ]
     },
     "execution_count": 171,
     "metadata": {},
     "output_type": "execute_result"
    }
   ],
   "source": [
    "len(l)"
   ]
  },
  {
   "cell_type": "code",
   "execution_count": 172,
   "id": "49196931-bfa0-4b8c-a174-ec9edf740668",
   "metadata": {},
   "outputs": [
    {
     "data": {
      "text/plain": [
       "[10]"
      ]
     },
     "execution_count": 172,
     "metadata": {},
     "output_type": "execute_result"
    }
   ],
   "source": [
    "l.append(10)\n",
    "l"
   ]
  },
  {
   "cell_type": "code",
   "execution_count": 173,
   "id": "b872692a-0cfe-43a8-9910-77bc42863f4e",
   "metadata": {},
   "outputs": [
    {
     "data": {
      "text/plain": [
       "[10, 20, 30, 40, 50]"
      ]
     },
     "execution_count": 173,
     "metadata": {},
     "output_type": "execute_result"
    }
   ],
   "source": [
    "l.append(20)\n",
    "l.append(30)\n",
    "l.append(40)\n",
    "l.append(50)\n",
    "l"
   ]
  },
  {
   "cell_type": "code",
   "execution_count": 174,
   "id": "71dca981-75b8-4496-ba96-5818ea9effa5",
   "metadata": {},
   "outputs": [
    {
     "data": {
      "text/plain": [
       "5"
      ]
     },
     "execution_count": 174,
     "metadata": {},
     "output_type": "execute_result"
    }
   ],
   "source": [
    "len(l)"
   ]
  },
  {
   "cell_type": "code",
   "execution_count": 175,
   "id": "b1176b37-749a-45af-9c8a-af4eded1d889",
   "metadata": {},
   "outputs": [
    {
     "ename": "TypeError",
     "evalue": "list.append() takes exactly one argument (2 given)",
     "output_type": "error",
     "traceback": [
      "\u001b[0;31m---------------------------------------------------------------------------\u001b[0m",
      "\u001b[0;31mTypeError\u001b[0m                                 Traceback (most recent call last)",
      "Cell \u001b[0;32mIn[175], line 1\u001b[0m\n\u001b[0;32m----> 1\u001b[0m l\u001b[38;5;241m.\u001b[39mappend(\u001b[38;5;241m60\u001b[39m,\u001b[38;5;241m70\u001b[39m)\n",
      "\u001b[0;31mTypeError\u001b[0m: list.append() takes exactly one argument (2 given)"
     ]
    }
   ],
   "source": [
    "l.append(60,70) # should pass only one value/argument"
   ]
  },
  {
   "cell_type": "code",
   "execution_count": 176,
   "id": "1dbe756f-1c46-4f78-99af-ca6a490b4a56",
   "metadata": {},
   "outputs": [
    {
     "data": {
      "text/plain": [
       "[10, 20, 30, 40, 50, 10]"
      ]
     },
     "execution_count": 176,
     "metadata": {},
     "output_type": "execute_result"
    }
   ],
   "source": [
    "l.append(10)\n",
    "l"
   ]
  },
  {
   "cell_type": "code",
   "execution_count": 177,
   "id": "0f159ad6-2758-4bd6-aa5a-2fdc2cecb5f5",
   "metadata": {},
   "outputs": [
    {
     "data": {
      "text/plain": [
       "[20, 30, 40, 50, 10]"
      ]
     },
     "execution_count": 177,
     "metadata": {},
     "output_type": "execute_result"
    }
   ],
   "source": [
    "l.remove(10)\n",
    "l"
   ]
  },
  {
   "cell_type": "code",
   "execution_count": 178,
   "id": "97df47a1-046b-4735-bda1-7d33508743b7",
   "metadata": {},
   "outputs": [
    {
     "data": {
      "text/plain": [
       "[20, 30, 40, 50]"
      ]
     },
     "execution_count": 178,
     "metadata": {},
     "output_type": "execute_result"
    }
   ],
   "source": [
    "l.pop()\n",
    "l"
   ]
  },
  {
   "cell_type": "code",
   "execution_count": 179,
   "id": "0c1a93c1-131c-47bf-b55c-18ccda092e25",
   "metadata": {},
   "outputs": [
    {
     "data": {
      "text/plain": [
       "[20, 30]"
      ]
     },
     "execution_count": 179,
     "metadata": {},
     "output_type": "execute_result"
    }
   ],
   "source": [
    "l.pop()\n",
    "l.pop()\n",
    "l"
   ]
  },
  {
   "cell_type": "code",
   "execution_count": 180,
   "id": "b3ed106b-6afd-4931-b3c4-b4442393e2be",
   "metadata": {},
   "outputs": [
    {
     "data": {
      "text/plain": [
       "[20, 30, 0]"
      ]
     },
     "execution_count": 180,
     "metadata": {},
     "output_type": "execute_result"
    }
   ],
   "source": [
    "l.insert(10, 0)\n",
    "l"
   ]
  },
  {
   "cell_type": "code",
   "execution_count": 181,
   "id": "3022d09a-159a-4187-9799-9dc4249f837b",
   "metadata": {},
   "outputs": [
    {
     "data": {
      "text/plain": [
       "[20, 30]"
      ]
     },
     "execution_count": 181,
     "metadata": {},
     "output_type": "execute_result"
    }
   ],
   "source": [
    "l.remove(0)\n",
    "l"
   ]
  },
  {
   "cell_type": "code",
   "execution_count": 182,
   "id": "c08c0cc4-54f4-4cee-a11d-ee159b68068c",
   "metadata": {},
   "outputs": [
    {
     "data": {
      "text/plain": [
       "[10, 20, 30]"
      ]
     },
     "execution_count": 182,
     "metadata": {},
     "output_type": "execute_result"
    }
   ],
   "source": [
    "l.insert(0, 10)\n",
    "l"
   ]
  },
  {
   "cell_type": "code",
   "execution_count": 183,
   "id": "2f33c5a0-fcc5-4a54-8eb4-d1983cd7b047",
   "metadata": {},
   "outputs": [
    {
     "data": {
      "text/plain": [
       "[10, 20, 30, 40, 50]"
      ]
     },
     "execution_count": 183,
     "metadata": {},
     "output_type": "execute_result"
    }
   ],
   "source": [
    "l = [10,20,30,40,50]\n",
    "l"
   ]
  },
  {
   "cell_type": "code",
   "execution_count": 184,
   "id": "f529fdc2-74c4-4906-8227-2ded13f0384a",
   "metadata": {},
   "outputs": [
    {
     "data": {
      "text/plain": [
       "10"
      ]
     },
     "execution_count": 184,
     "metadata": {},
     "output_type": "execute_result"
    }
   ],
   "source": [
    "l[0]"
   ]
  },
  {
   "cell_type": "code",
   "execution_count": 185,
   "id": "ac2c020c-3b04-4915-9e9a-44a36d5f2e52",
   "metadata": {},
   "outputs": [
    {
     "data": {
      "text/plain": [
       "[100, 20, 30, 40, 50]"
      ]
     },
     "execution_count": 185,
     "metadata": {},
     "output_type": "execute_result"
    }
   ],
   "source": [
    "l[0] = 100\n",
    "l"
   ]
  },
  {
   "cell_type": "code",
   "execution_count": 186,
   "id": "d4ee21d7-b03f-47b8-98e0-6fa12fcabc3c",
   "metadata": {},
   "outputs": [
    {
     "data": {
      "text/plain": [
       "[100, 20, 30, 40, -50]"
      ]
     },
     "execution_count": 186,
     "metadata": {},
     "output_type": "execute_result"
    }
   ],
   "source": [
    "l[-1] = -50\n",
    "l"
   ]
  },
  {
   "cell_type": "code",
   "execution_count": 187,
   "id": "e073fa99-0a8e-45e7-b12a-19f553ebb7d3",
   "metadata": {},
   "outputs": [
    {
     "data": {
      "text/plain": [
       "[100, 20, 30, 40, -50]"
      ]
     },
     "execution_count": 187,
     "metadata": {},
     "output_type": "execute_result"
    }
   ],
   "source": [
    "l1 = l.copy() # Copy\n",
    "l1"
   ]
  },
  {
   "cell_type": "code",
   "execution_count": 188,
   "id": "23cc77cf-8b15-414a-83e9-a1c2f35eb049",
   "metadata": {},
   "outputs": [
    {
     "name": "stdout",
     "output_type": "stream",
     "text": [
      "[100, 20, 30, 40, -50]\n",
      "[100, 20, 30, 40, -50]\n"
     ]
    }
   ],
   "source": [
    "print(l)\n",
    "print(l1)"
   ]
  },
  {
   "cell_type": "code",
   "execution_count": 189,
   "id": "0ade5d61-23aa-4c98-a292-376826deeca9",
   "metadata": {},
   "outputs": [
    {
     "data": {
      "text/plain": [
       "True"
      ]
     },
     "execution_count": 189,
     "metadata": {},
     "output_type": "execute_result"
    }
   ],
   "source": [
    "l == l1"
   ]
  },
  {
   "cell_type": "code",
   "execution_count": 190,
   "id": "e1a475fe-3d28-4760-abf0-3b1eed00e960",
   "metadata": {},
   "outputs": [
    {
     "data": {
      "text/plain": [
       "False"
      ]
     },
     "execution_count": 190,
     "metadata": {},
     "output_type": "execute_result"
    }
   ],
   "source": [
    "id(l) == id(l1)"
   ]
  },
  {
   "cell_type": "code",
   "execution_count": 191,
   "id": "6ca03c35-ac70-4fce-9456-610644b56ccc",
   "metadata": {},
   "outputs": [
    {
     "data": {
      "text/plain": [
       "5782256640"
      ]
     },
     "execution_count": 191,
     "metadata": {},
     "output_type": "execute_result"
    }
   ],
   "source": [
    "id(l)"
   ]
  },
  {
   "cell_type": "code",
   "execution_count": 192,
   "id": "51accfd6-e8a4-4343-a3c7-9fe0db5e30ad",
   "metadata": {},
   "outputs": [
    {
     "data": {
      "text/plain": [
       "5782255232"
      ]
     },
     "execution_count": 192,
     "metadata": {},
     "output_type": "execute_result"
    }
   ],
   "source": [
    "id(l1)"
   ]
  },
  {
   "cell_type": "code",
   "execution_count": 193,
   "id": "f86bc6ce-b464-443f-acf3-7d6b2b04e6a0",
   "metadata": {},
   "outputs": [
    {
     "data": {
      "text/plain": [
       "False"
      ]
     },
     "execution_count": 193,
     "metadata": {},
     "output_type": "execute_result"
    }
   ],
   "source": [
    "id(l) == id(l1)\n"
   ]
  },
  {
   "cell_type": "code",
   "execution_count": 194,
   "id": "c96ea6b2-bf01-4600-b0e0-bc5f94f6ca11",
   "metadata": {},
   "outputs": [
    {
     "data": {
      "text/plain": [
       "1"
      ]
     },
     "execution_count": 194,
     "metadata": {},
     "output_type": "execute_result"
    }
   ],
   "source": [
    "l.count(20)"
   ]
  },
  {
   "cell_type": "code",
   "execution_count": 195,
   "id": "865e8bef-6694-46dc-845b-f17eba0ff170",
   "metadata": {},
   "outputs": [
    {
     "data": {
      "text/plain": [
       "[]"
      ]
     },
     "execution_count": 195,
     "metadata": {},
     "output_type": "execute_result"
    }
   ],
   "source": [
    "l1.clear()\n",
    "l1"
   ]
  },
  {
   "cell_type": "code",
   "execution_count": 196,
   "id": "4a5955b3-7fee-4505-b7fc-9ec675c7e7de",
   "metadata": {},
   "outputs": [
    {
     "ename": "NameError",
     "evalue": "name 'l1' is not defined",
     "output_type": "error",
     "traceback": [
      "\u001b[0;31m---------------------------------------------------------------------------\u001b[0m",
      "\u001b[0;31mNameError\u001b[0m                                 Traceback (most recent call last)",
      "Cell \u001b[0;32mIn[196], line 2\u001b[0m\n\u001b[1;32m      1\u001b[0m \u001b[38;5;28;01mdel\u001b[39;00m l1\n\u001b[0;32m----> 2\u001b[0m l1\n",
      "\u001b[0;31mNameError\u001b[0m: name 'l1' is not defined"
     ]
    }
   ],
   "source": [
    "del l1\n",
    "l1"
   ]
  },
  {
   "cell_type": "code",
   "execution_count": 197,
   "id": "96ba6d53-2075-4ba7-acd3-441123dbbcea",
   "metadata": {},
   "outputs": [],
   "source": [
    "l2 = []"
   ]
  },
  {
   "cell_type": "code",
   "execution_count": 198,
   "id": "084ccee6-8484-496b-a4b4-153c9f89a169",
   "metadata": {},
   "outputs": [
    {
     "data": {
      "text/plain": [
       "[9, 'nit', True, (1+2j), 9.3]"
      ]
     },
     "execution_count": 198,
     "metadata": {},
     "output_type": "execute_result"
    }
   ],
   "source": [
    "l2.append(9)\n",
    "l2.append('nit')\n",
    "l2.append(True)\n",
    "l2.append(1+2j)\n",
    "l2.append(9.3)\n",
    "l2"
   ]
  },
  {
   "cell_type": "code",
   "execution_count": 199,
   "id": "9d6838cd-46fd-4724-9f64-42d92f6db6fd",
   "metadata": {},
   "outputs": [
    {
     "data": {
      "text/plain": [
       "0"
      ]
     },
     "execution_count": 199,
     "metadata": {},
     "output_type": "execute_result"
    }
   ],
   "source": [
    "l.index(100)"
   ]
  },
  {
   "cell_type": "code",
   "execution_count": 200,
   "id": "cc1f925d-633f-4425-8cfe-a492f522e7b3",
   "metadata": {},
   "outputs": [
    {
     "data": {
      "text/plain": [
       "1"
      ]
     },
     "execution_count": 200,
     "metadata": {},
     "output_type": "execute_result"
    }
   ],
   "source": [
    "l.index(20)"
   ]
  },
  {
   "cell_type": "code",
   "execution_count": 201,
   "id": "c15e78ee-0188-477c-bd84-3c8cd15e0f33",
   "metadata": {},
   "outputs": [
    {
     "data": {
      "text/plain": [
       "'nit'"
      ]
     },
     "execution_count": 201,
     "metadata": {},
     "output_type": "execute_result"
    }
   ],
   "source": [
    "l2[1]"
   ]
  },
  {
   "cell_type": "code",
   "execution_count": 202,
   "id": "9ec3f9a4-52c6-48c7-a705-449abd16570c",
   "metadata": {},
   "outputs": [
    {
     "data": {
      "text/plain": [
       "'n'"
      ]
     },
     "execution_count": 202,
     "metadata": {},
     "output_type": "execute_result"
    }
   ],
   "source": [
    "l2[1][0] # this is called as nested indexing"
   ]
  },
  {
   "cell_type": "code",
   "execution_count": 203,
   "id": "99769af6-bb35-4769-bb34-ae3b8eca01ce",
   "metadata": {},
   "outputs": [
    {
     "name": "stdout",
     "output_type": "stream",
     "text": [
      "n\n",
      "i\n",
      "t\n"
     ]
    }
   ],
   "source": [
    "print(l2[1][0])\n",
    "print(l2[1][1])\n",
    "print(l2[1][2])\n"
   ]
  },
  {
   "cell_type": "code",
   "execution_count": 204,
   "id": "f12662ad-250a-448d-85b5-55d8e17ebd41",
   "metadata": {},
   "outputs": [
    {
     "data": {
      "text/plain": [
       "[100, 20, 30, 40, -50]"
      ]
     },
     "execution_count": 204,
     "metadata": {},
     "output_type": "execute_result"
    }
   ],
   "source": [
    "l[:]"
   ]
  },
  {
   "cell_type": "code",
   "execution_count": 205,
   "id": "e4b4da3b-5168-42d8-b39e-e28c6db936f6",
   "metadata": {},
   "outputs": [
    {
     "data": {
      "text/plain": [
       "[100, 40]"
      ]
     },
     "execution_count": 205,
     "metadata": {},
     "output_type": "execute_result"
    }
   ],
   "source": [
    "l[0:8:3]"
   ]
  },
  {
   "cell_type": "code",
   "execution_count": 206,
   "id": "ea4c92c7-71d8-44be-ab74-a69b5ed8181c",
   "metadata": {},
   "outputs": [
    {
     "data": {
      "text/plain": [
       "[9, 'nit', True, (1+2j), 9.3]"
      ]
     },
     "execution_count": 206,
     "metadata": {},
     "output_type": "execute_result"
    }
   ],
   "source": [
    "l2"
   ]
  },
  {
   "cell_type": "code",
   "execution_count": 207,
   "id": "f1a3fb5c-453d-4280-aea2-f24d5314020a",
   "metadata": {},
   "outputs": [
    {
     "data": {
      "text/plain": [
       "['nit', (1+2j)]"
      ]
     },
     "execution_count": 207,
     "metadata": {},
     "output_type": "execute_result"
    }
   ],
   "source": [
    "l2[1:6:2]"
   ]
  },
  {
   "cell_type": "code",
   "execution_count": 208,
   "id": "7ed95e4f-dde9-42ff-9600-ef8f0306aaa4",
   "metadata": {},
   "outputs": [
    {
     "data": {
      "text/plain": [
       "[100, 20, 30, 40, -50]"
      ]
     },
     "execution_count": 208,
     "metadata": {},
     "output_type": "execute_result"
    }
   ],
   "source": [
    "l"
   ]
  },
  {
   "cell_type": "code",
   "execution_count": 209,
   "id": "c81e2869-f10e-4095-a2cc-cc61cde4fec2",
   "metadata": {},
   "outputs": [
    {
     "data": {
      "text/plain": [
       "[100, 20, 15, 30, 40, -50]"
      ]
     },
     "execution_count": 209,
     "metadata": {},
     "output_type": "execute_result"
    }
   ],
   "source": [
    "l.insert(2, 15) # 2 is index, 15 is the value. It addes value before index 2 .\n",
    "l"
   ]
  },
  {
   "cell_type": "code",
   "execution_count": 210,
   "id": "00c5a777-cd1a-4091-9135-46b64cd2d1a0",
   "metadata": {},
   "outputs": [
    {
     "data": {
      "text/plain": [
       "[100, 20, 15, 30, 40]"
      ]
     },
     "execution_count": 210,
     "metadata": {},
     "output_type": "execute_result"
    }
   ],
   "source": [
    "l.pop() # remove the last item and return list.\n",
    "l"
   ]
  },
  {
   "cell_type": "code",
   "execution_count": 211,
   "id": "89bc0282-ac18-4d96-b191-09b7fb4b848a",
   "metadata": {},
   "outputs": [
    {
     "data": {
      "text/plain": [
       "[100, 15, 30, 40]"
      ]
     },
     "execution_count": 211,
     "metadata": {},
     "output_type": "execute_result"
    }
   ],
   "source": [
    "l.pop(1) # removes the element which is at the index 1\n",
    "l"
   ]
  },
  {
   "cell_type": "code",
   "execution_count": 212,
   "id": "9a67f428-fceb-46b4-904c-4165b1836b36",
   "metadata": {},
   "outputs": [
    {
     "data": {
      "text/plain": [
       "[9, 'nit', True, (1+2j), 9.3]"
      ]
     },
     "execution_count": 212,
     "metadata": {},
     "output_type": "execute_result"
    }
   ],
   "source": [
    "l2"
   ]
  },
  {
   "cell_type": "code",
   "execution_count": 213,
   "id": "f590703f-aeac-49c9-a53b-27ddff338bcb",
   "metadata": {},
   "outputs": [
    {
     "data": {
      "text/plain": [
       "[9, 'nit', True, 9.3]"
      ]
     },
     "execution_count": 213,
     "metadata": {},
     "output_type": "execute_result"
    }
   ],
   "source": [
    "l2.pop(3)\n",
    "l2"
   ]
  },
  {
   "cell_type": "code",
   "execution_count": 214,
   "id": "ad85e6aa-ae24-41e1-9afd-c0a29dbe1d3f",
   "metadata": {},
   "outputs": [
    {
     "data": {
      "text/plain": [
       "[9, True, 9.3]"
      ]
     },
     "execution_count": 214,
     "metadata": {},
     "output_type": "execute_result"
    }
   ],
   "source": [
    "l2.remove('nit')\n",
    "l2"
   ]
  },
  {
   "cell_type": "code",
   "execution_count": 215,
   "id": "9cce60ab-3e47-4f9c-94e5-8ffca151cbc0",
   "metadata": {},
   "outputs": [
    {
     "data": {
      "text/plain": [
       "2"
      ]
     },
     "execution_count": 215,
     "metadata": {},
     "output_type": "execute_result"
    }
   ],
   "source": [
    "l2.index(9.3)"
   ]
  },
  {
   "cell_type": "code",
   "execution_count": 216,
   "id": "613c83c8-2961-4e73-a4ae-52f4a23cb06c",
   "metadata": {},
   "outputs": [
    {
     "data": {
      "text/plain": [
       "[9.3, True, 9]"
      ]
     },
     "execution_count": 216,
     "metadata": {},
     "output_type": "execute_result"
    }
   ],
   "source": [
    "l2.reverse()\n",
    "l2"
   ]
  },
  {
   "cell_type": "code",
   "execution_count": 217,
   "id": "f43d3f1f-08f3-4980-82c5-df592dc686a6",
   "metadata": {},
   "outputs": [
    {
     "data": {
      "text/plain": [
       "[9.3, True, 9]"
      ]
     },
     "execution_count": 217,
     "metadata": {},
     "output_type": "execute_result"
    }
   ],
   "source": [
    "l2"
   ]
  },
  {
   "cell_type": "code",
   "execution_count": 218,
   "id": "94ab9967-4983-402e-95e9-62cb1ec550b0",
   "metadata": {},
   "outputs": [
    {
     "data": {
      "text/plain": [
       "[9, True, 9.3]"
      ]
     },
     "execution_count": 218,
     "metadata": {},
     "output_type": "execute_result"
    }
   ],
   "source": [
    "l2.reverse()\n",
    "l2"
   ]
  },
  {
   "cell_type": "code",
   "execution_count": 219,
   "id": "1e1f8eba-528f-4cd8-b3c1-057ea1c55a9a",
   "metadata": {},
   "outputs": [
    {
     "data": {
      "text/plain": [
       "[True, 9, 9.3]"
      ]
     },
     "execution_count": 219,
     "metadata": {},
     "output_type": "execute_result"
    }
   ],
   "source": [
    "l2.sort()\n",
    "l2"
   ]
  },
  {
   "cell_type": "markdown",
   "id": "25c3b725-42da-473d-8db5-1598d2ece7be",
   "metadata": {},
   "source": [
    "## List Memberships(25-Jun-2025)"
   ]
  },
  {
   "cell_type": "code",
   "execution_count": 220,
   "id": "29843ca2-f3d4-4382-8985-52dcae1cc2c6",
   "metadata": {},
   "outputs": [
    {
     "data": {
      "text/plain": [
       "[100, 15, 30, 40]"
      ]
     },
     "execution_count": 220,
     "metadata": {},
     "output_type": "execute_result"
    }
   ],
   "source": [
    "l"
   ]
  },
  {
   "cell_type": "code",
   "execution_count": 221,
   "id": "bf1ce905-14d4-4b2f-8651-02053f6bc696",
   "metadata": {},
   "outputs": [
    {
     "data": {
      "text/plain": [
       "True"
      ]
     },
     "execution_count": 221,
     "metadata": {},
     "output_type": "execute_result"
    }
   ],
   "source": [
    "100 in l"
   ]
  },
  {
   "cell_type": "code",
   "execution_count": 222,
   "id": "81e784d6-3f71-4616-bf65-0e13e047fe74",
   "metadata": {},
   "outputs": [
    {
     "data": {
      "text/plain": [
       "False"
      ]
     },
     "execution_count": 222,
     "metadata": {},
     "output_type": "execute_result"
    }
   ],
   "source": [
    "100000 in l"
   ]
  },
  {
   "cell_type": "code",
   "execution_count": 223,
   "id": "abdd70b5-4dd0-4e82-a23c-7c73f3a9205d",
   "metadata": {},
   "outputs": [
    {
     "name": "stdout",
     "output_type": "stream",
     "text": [
      "100\n",
      "15\n",
      "30\n",
      "40\n"
     ]
    }
   ],
   "source": [
    "for i in l:\n",
    "    print(i)"
   ]
  },
  {
   "cell_type": "code",
   "execution_count": 224,
   "id": "2bba8a91-8363-4dbc-a062-e50a1de2da8c",
   "metadata": {},
   "outputs": [
    {
     "name": "stdout",
     "output_type": "stream",
     "text": [
      "(0, 100)\n",
      "(1, 15)\n",
      "(2, 30)\n",
      "(3, 40)\n"
     ]
    }
   ],
   "source": [
    "for i in enumerate(l):\n",
    "    print(i)"
   ]
  },
  {
   "cell_type": "code",
   "execution_count": 225,
   "id": "7199c9f0-77a6-48c8-9e48-86068b4b8363",
   "metadata": {},
   "outputs": [
    {
     "name": "stdout",
     "output_type": "stream",
     "text": [
      "[100, 15, 30, 40]\n",
      "[True, 9, 9.3]\n"
     ]
    }
   ],
   "source": [
    "print(l)\n",
    "print(l2)"
   ]
  },
  {
   "cell_type": "code",
   "execution_count": 226,
   "id": "1e4ee943-6b7a-407e-af01-bcdee06d11a5",
   "metadata": {},
   "outputs": [
    {
     "data": {
      "text/plain": [
       "[True, 9, 9.3, 100, 15, 30, 40]"
      ]
     },
     "execution_count": 226,
     "metadata": {},
     "output_type": "execute_result"
    }
   ],
   "source": [
    "l2.extend(l)\n",
    "l2"
   ]
  },
  {
   "cell_type": "code",
   "execution_count": 227,
   "id": "e0a86aa2-3583-4d1b-9f19-876bda5a6f66",
   "metadata": {},
   "outputs": [
    {
     "data": {
      "text/plain": [
       "[100, 15, 30, 40]"
      ]
     },
     "execution_count": 227,
     "metadata": {},
     "output_type": "execute_result"
    }
   ],
   "source": [
    "l"
   ]
  },
  {
   "cell_type": "code",
   "execution_count": 228,
   "id": "a1201128-6708-49f2-a5e8-b694fc26dc47",
   "metadata": {},
   "outputs": [
    {
     "data": {
      "text/plain": [
       "[15, 30, 40, 100]"
      ]
     },
     "execution_count": 228,
     "metadata": {},
     "output_type": "execute_result"
    }
   ],
   "source": [
    "l.sort() # default it is in ascending order. BY default reverse=False\n",
    "l"
   ]
  },
  {
   "cell_type": "code",
   "execution_count": 230,
   "id": "3e081f4e-3c93-4f3b-9415-b7f8431d9777",
   "metadata": {},
   "outputs": [
    {
     "data": {
      "text/plain": [
       "[100, 40, 30, 15]"
      ]
     },
     "execution_count": 230,
     "metadata": {},
     "output_type": "execute_result"
    }
   ],
   "source": [
    "l.sort(reverse=True) # Hyper parameter. Changed by the user. This is called parameter tuning.\n",
    "l"
   ]
  },
  {
   "cell_type": "code",
   "execution_count": 232,
   "id": "b8e76cb8-1e4d-435b-8501-82893cd9219c",
   "metadata": {},
   "outputs": [
    {
     "ename": "TypeError",
     "evalue": "'<' not supported between instances of 'str' and 'float'",
     "output_type": "error",
     "traceback": [
      "\u001b[0;31m---------------------------------------------------------------------------\u001b[0m",
      "\u001b[0;31mTypeError\u001b[0m                                 Traceback (most recent call last)",
      "Cell \u001b[0;32mIn[232], line 2\u001b[0m\n\u001b[1;32m      1\u001b[0m l3\u001b[38;5;241m=\u001b[39m [\u001b[38;5;241m1\u001b[39m, \u001b[38;5;241m2.3\u001b[39m,\u001b[38;5;124m'\u001b[39m\u001b[38;5;124mnit\u001b[39m\u001b[38;5;124m'\u001b[39m, \u001b[38;5;28;01mTrue\u001b[39;00m]\n\u001b[0;32m----> 2\u001b[0m l3\u001b[38;5;241m.\u001b[39msort()\n\u001b[1;32m      3\u001b[0m l3\n",
      "\u001b[0;31mTypeError\u001b[0m: '<' not supported between instances of 'str' and 'float'"
     ]
    }
   ],
   "source": [
    "l3= [1, 2.3,'nit', True]\n",
    "l3.sort()\n",
    "l3"
   ]
  },
  {
   "cell_type": "code",
   "execution_count": 233,
   "id": "f69a2ca1-0a8c-4066-baf3-a51ee0932ae8",
   "metadata": {},
   "outputs": [
    {
     "data": {
      "text/plain": [
       "['a', 'm', 'n', 'z']"
      ]
     },
     "execution_count": 233,
     "metadata": {},
     "output_type": "execute_result"
    }
   ],
   "source": [
    "l4 = ['a', 'z', 'n', 'm']\n",
    "l4.sort()\n",
    "l4"
   ]
  },
  {
   "cell_type": "code",
   "execution_count": null,
   "id": "ee179e56-e61e-4593-81dd-8c0de2f36171",
   "metadata": {},
   "outputs": [],
   "source": [
    "# sort() works on similar datatypes\n",
    "# on mixed datatypes sort() wont work."
   ]
  },
  {
   "cell_type": "code",
   "execution_count": 234,
   "id": "f70c2886-46a7-4bf7-b7e3-f7140c72f11f",
   "metadata": {},
   "outputs": [
    {
     "data": {
      "text/plain": [
       "['z', 'n', 'm', 'a']"
      ]
     },
     "execution_count": 234,
     "metadata": {},
     "output_type": "execute_result"
    }
   ],
   "source": [
    "l4.reverse()\n",
    "l4"
   ]
  },
  {
   "cell_type": "markdown",
   "id": "62f23c2a-5fec-4bbe-a3dc-2b23026b4a52",
   "metadata": {},
   "source": [
    "## ALL & ANY"
   ]
  },
  {
   "cell_type": "code",
   "execution_count": 235,
   "id": "9a9649b8-9c0f-4aba-973b-ceb314def783",
   "metadata": {},
   "outputs": [
    {
     "data": {
      "text/plain": [
       "[100, 40, 30, 15]"
      ]
     },
     "execution_count": 235,
     "metadata": {},
     "output_type": "execute_result"
    }
   ],
   "source": [
    "l"
   ]
  },
  {
   "cell_type": "code",
   "execution_count": 236,
   "id": "38dea838-4cbb-4c81-ba8f-6c03053ed14e",
   "metadata": {},
   "outputs": [
    {
     "data": {
      "text/plain": [
       "True"
      ]
     },
     "execution_count": 236,
     "metadata": {},
     "output_type": "execute_result"
    }
   ],
   "source": [
    "all(l)"
   ]
  },
  {
   "cell_type": "code",
   "execution_count": 237,
   "id": "62699dbb-89e1-4733-bde9-c26f0dfc28b1",
   "metadata": {},
   "outputs": [
    {
     "data": {
      "text/plain": [
       "True"
      ]
     },
     "execution_count": 237,
     "metadata": {},
     "output_type": "execute_result"
    }
   ],
   "source": [
    "any(l)"
   ]
  },
  {
   "cell_type": "code",
   "execution_count": 238,
   "id": "a18e89d1-efea-47f9-9bb2-cbce8707c001",
   "metadata": {},
   "outputs": [
    {
     "data": {
      "text/plain": [
       "[100, 40, 30, 15, 0]"
      ]
     },
     "execution_count": 238,
     "metadata": {},
     "output_type": "execute_result"
    }
   ],
   "source": [
    "l.append(0)\n",
    "l"
   ]
  },
  {
   "cell_type": "code",
   "execution_count": 239,
   "id": "615b88a1-ad9e-4311-af58-c150d98293ee",
   "metadata": {},
   "outputs": [
    {
     "data": {
      "text/plain": [
       "False"
      ]
     },
     "execution_count": 239,
     "metadata": {},
     "output_type": "execute_result"
    }
   ],
   "source": [
    "all(l) # any one item is 0 then all(l) returns False."
   ]
  },
  {
   "cell_type": "code",
   "execution_count": 240,
   "id": "b5a8bad0-22f2-439b-9d38-9a45195e2f07",
   "metadata": {},
   "outputs": [
    {
     "data": {
      "text/plain": [
       "True"
      ]
     },
     "execution_count": 240,
     "metadata": {},
     "output_type": "execute_result"
    }
   ],
   "source": [
    "any(l)"
   ]
  },
  {
   "cell_type": "code",
   "execution_count": null,
   "id": "60a4fb7f-c6f8-4679-883b-d36e859383ad",
   "metadata": {},
   "outputs": [],
   "source": []
  },
  {
   "cell_type": "code",
   "execution_count": null,
   "id": "99c86681-7216-4e9d-8b75-8354d9d14065",
   "metadata": {},
   "outputs": [],
   "source": []
  },
  {
   "cell_type": "code",
   "execution_count": null,
   "id": "1a230379-fd28-4dab-8eb3-b4158b120eb1",
   "metadata": {},
   "outputs": [],
   "source": []
  },
  {
   "cell_type": "code",
   "execution_count": null,
   "id": "ad30631b-0d84-4576-8d7d-8d2f9cdccdaf",
   "metadata": {},
   "outputs": [],
   "source": []
  },
  {
   "cell_type": "code",
   "execution_count": null,
   "id": "7d6c5031-cda8-4376-a758-61daa46883f5",
   "metadata": {},
   "outputs": [],
   "source": []
  },
  {
   "cell_type": "code",
   "execution_count": null,
   "id": "69d9e967-e795-4dff-aeac-8b71609abfb5",
   "metadata": {},
   "outputs": [],
   "source": []
  },
  {
   "cell_type": "code",
   "execution_count": null,
   "id": "97634c7e-5a02-4b82-a992-271a1faff175",
   "metadata": {},
   "outputs": [],
   "source": []
  },
  {
   "cell_type": "code",
   "execution_count": null,
   "id": "040aa7c0-25e0-4847-bf27-9bdff8154b41",
   "metadata": {},
   "outputs": [],
   "source": []
  },
  {
   "cell_type": "code",
   "execution_count": null,
   "id": "188e781f-d31e-4d67-8e00-a7d357906171",
   "metadata": {},
   "outputs": [],
   "source": []
  },
  {
   "cell_type": "code",
   "execution_count": null,
   "id": "3123cf76-a873-4bd5-a273-41f9c3a39594",
   "metadata": {},
   "outputs": [],
   "source": []
  },
  {
   "cell_type": "code",
   "execution_count": null,
   "id": "c833a030-d37a-4cf4-9743-9f7dcb42e64b",
   "metadata": {},
   "outputs": [],
   "source": []
  },
  {
   "cell_type": "code",
   "execution_count": null,
   "id": "b7d3d66c-8d33-4e26-903d-fd36d77a4fed",
   "metadata": {},
   "outputs": [],
   "source": []
  },
  {
   "cell_type": "code",
   "execution_count": null,
   "id": "61fda31c-144b-4694-b433-19e672dd2705",
   "metadata": {},
   "outputs": [],
   "source": []
  },
  {
   "cell_type": "code",
   "execution_count": null,
   "id": "620c668c-7d8f-4d4f-a972-2bd9fb4292f1",
   "metadata": {},
   "outputs": [],
   "source": []
  },
  {
   "cell_type": "code",
   "execution_count": null,
   "id": "d1811db2-d827-4a8e-bdc2-a5c7def9be96",
   "metadata": {},
   "outputs": [],
   "source": []
  },
  {
   "cell_type": "code",
   "execution_count": null,
   "id": "b7fa6b19-8cbe-4065-b001-4ea8acbbca8a",
   "metadata": {},
   "outputs": [],
   "source": []
  },
  {
   "cell_type": "code",
   "execution_count": null,
   "id": "9a1c0e05-5ccd-4705-930b-0ad7d2e4ed48",
   "metadata": {},
   "outputs": [],
   "source": []
  },
  {
   "cell_type": "code",
   "execution_count": null,
   "id": "410ef092-d71e-4003-a186-c506ceba412d",
   "metadata": {},
   "outputs": [],
   "source": []
  },
  {
   "cell_type": "code",
   "execution_count": null,
   "id": "f8b8a537-72ca-463b-98cb-2a535b734a8b",
   "metadata": {},
   "outputs": [],
   "source": []
  },
  {
   "cell_type": "code",
   "execution_count": null,
   "id": "948e99bb-8b71-44ea-8144-1f9598684151",
   "metadata": {},
   "outputs": [],
   "source": []
  },
  {
   "cell_type": "code",
   "execution_count": null,
   "id": "99814102-9e6d-40ab-844a-ffa539f13b2d",
   "metadata": {},
   "outputs": [],
   "source": []
  },
  {
   "cell_type": "code",
   "execution_count": null,
   "id": "fcae2f81-8123-4b93-b3c5-96afafa14a87",
   "metadata": {},
   "outputs": [],
   "source": []
  },
  {
   "cell_type": "code",
   "execution_count": null,
   "id": "2f935561-45ec-4bfe-bd17-6c153bfa3416",
   "metadata": {},
   "outputs": [],
   "source": []
  },
  {
   "cell_type": "code",
   "execution_count": null,
   "id": "50d1d6cb-1ec0-4177-b036-69b32390b45c",
   "metadata": {},
   "outputs": [],
   "source": []
  },
  {
   "cell_type": "code",
   "execution_count": null,
   "id": "56d3768c-ee35-448d-bbd1-1eb8ea5329a8",
   "metadata": {},
   "outputs": [],
   "source": []
  }
 ],
 "metadata": {
  "kernelspec": {
   "display_name": "Python [conda env:base] *",
   "language": "python",
   "name": "conda-base-py"
  },
  "language_info": {
   "codemirror_mode": {
    "name": "ipython",
    "version": 3
   },
   "file_extension": ".py",
   "mimetype": "text/x-python",
   "name": "python",
   "nbconvert_exporter": "python",
   "pygments_lexer": "ipython3",
   "version": "3.12.7"
  }
 },
 "nbformat": 4,
 "nbformat_minor": 5
}
