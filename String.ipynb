{
 "cells": [
  {
   "cell_type": "code",
   "execution_count": 1,
   "id": "06067b31-fe7b-427e-a669-a2dca13d664a",
   "metadata": {},
   "outputs": [
    {
     "data": {
      "text/plain": [
       "'A cat has two childs'"
      ]
     },
     "execution_count": 1,
     "metadata": {},
     "output_type": "execute_result"
    }
   ],
   "source": [
    "s = 'A cat has two childs'\n",
    "s"
   ]
  },
  {
   "cell_type": "code",
   "execution_count": 2,
   "id": "4ad189c5-d2a6-4c71-97fd-d18cb443beb3",
   "metadata": {},
   "outputs": [
    {
     "name": "stdout",
     "output_type": "stream",
     "text": [
      "yes\n"
     ]
    }
   ],
   "source": [
    "if 'cat' in s:\n",
    "    print('yes')"
   ]
  },
  {
   "cell_type": "code",
   "execution_count": 7,
   "id": "b2ae07eb-45fb-4908-b150-a38ee2a22f1a",
   "metadata": {},
   "outputs": [
    {
     "name": "stdout",
     "output_type": "stream",
     "text": [
      "Present\n"
     ]
    }
   ],
   "source": [
    "if 'cat' not in s:\n",
    "    print('Not present')\n",
    "else:\n",
    "    print('Present')"
   ]
  },
  {
   "cell_type": "code",
   "execution_count": 8,
   "id": "1196f0f7-f621-4832-ab46-90edc1d4cb83",
   "metadata": {},
   "outputs": [
    {
     "name": "stdout",
     "output_type": "stream",
     "text": [
      "Not present\n"
     ]
    }
   ],
   "source": [
    "if 'cat1' not in s:\n",
    "    print('Not present')\n",
    "else:\n",
    "    print('Present')"
   ]
  },
  {
   "cell_type": "code",
   "execution_count": 9,
   "id": "19c907a7-aa93-40f1-8ed7-8f5a43179644",
   "metadata": {},
   "outputs": [
    {
     "data": {
      "text/plain": [
       "True"
      ]
     },
     "execution_count": 9,
     "metadata": {},
     "output_type": "execute_result"
    }
   ],
   "source": [
    "'cat' in s"
   ]
  },
  {
   "cell_type": "code",
   "execution_count": 10,
   "id": "e9364f37-44a4-48f9-a5fa-5401d98ea174",
   "metadata": {},
   "outputs": [
    {
     "data": {
      "text/plain": [
       "'A CAT HAS TWO CHILDS'"
      ]
     },
     "execution_count": 10,
     "metadata": {},
     "output_type": "execute_result"
    }
   ],
   "source": [
    "s.upper()"
   ]
  },
  {
   "cell_type": "code",
   "execution_count": 12,
   "id": "3d271ef1-71c3-4d8b-b7d9-8dfa1af2a1a5",
   "metadata": {},
   "outputs": [
    {
     "data": {
      "text/plain": [
       "'rama killed ravana'"
      ]
     },
     "execution_count": 12,
     "metadata": {},
     "output_type": "execute_result"
    }
   ],
   "source": [
    "'Rama killed ravana'.lower()"
   ]
  },
  {
   "cell_type": "code",
   "execution_count": 13,
   "id": "68a7fc98-cdc1-4783-b10a-fcbeda8842cc",
   "metadata": {},
   "outputs": [
    {
     "data": {
      "text/plain": [
       "'A cat has two childs'"
      ]
     },
     "execution_count": 13,
     "metadata": {},
     "output_type": "execute_result"
    }
   ],
   "source": [
    "s.strip()\n"
   ]
  },
  {
   "cell_type": "code",
   "execution_count": 14,
   "id": "90ac5b8a-c07e-4bb0-929a-f3eb177f680c",
   "metadata": {},
   "outputs": [
    {
     "data": {
      "text/plain": [
       "'this is python'"
      ]
     },
     "execution_count": 14,
     "metadata": {},
     "output_type": "execute_result"
    }
   ],
   "source": [
    "\"       this is python      \".strip()"
   ]
  },
  {
   "cell_type": "code",
   "execution_count": 16,
   "id": "15fdc950-490a-43c2-99a2-4c468e9c03df",
   "metadata": {},
   "outputs": [
    {
     "data": {
      "text/plain": [
       "'A dog has two childs'"
      ]
     },
     "execution_count": 16,
     "metadata": {},
     "output_type": "execute_result"
    }
   ],
   "source": [
    "s.replace('cat','dog')"
   ]
  },
  {
   "cell_type": "code",
   "execution_count": 18,
   "id": "b8645dbc-f829-4d3a-87de-1543f452cbb0",
   "metadata": {},
   "outputs": [
    {
     "data": {
      "text/plain": [
       "['A', 'cat', 'has', 'two', 'childs']"
      ]
     },
     "execution_count": 18,
     "metadata": {},
     "output_type": "execute_result"
    }
   ],
   "source": [
    "s.split(' ')"
   ]
  },
  {
   "cell_type": "code",
   "execution_count": 19,
   "id": "5bfb1b75-78d8-4a83-bc2e-5b24217296a4",
   "metadata": {},
   "outputs": [
    {
     "data": {
      "text/plain": [
       "'A     cat     has     two     childs'"
      ]
     },
     "execution_count": 19,
     "metadata": {},
     "output_type": "execute_result"
    }
   ],
   "source": [
    "s.replace(' ', '     ')"
   ]
  },
  {
   "cell_type": "code",
   "execution_count": 20,
   "id": "f00a1590-8b30-460b-a3ef-085313319f29",
   "metadata": {},
   "outputs": [
    {
     "data": {
      "text/plain": [
       "'A cat has two childs'"
      ]
     },
     "execution_count": 20,
     "metadata": {},
     "output_type": "execute_result"
    }
   ],
   "source": [
    "s\n"
   ]
  },
  {
   "cell_type": "code",
   "execution_count": 28,
   "id": "94c01a8b-ad6f-4fb2-ab4b-16fdaef79375",
   "metadata": {},
   "outputs": [
    {
     "name": "stdout",
     "output_type": "stream",
     "text": [
      "The cost of the note book is 55.25563824422682\n"
     ]
    }
   ],
   "source": [
    "price = 55.25563824422682\n",
    "s = f'The cost of the note book is {price}'\n",
    "print(s)"
   ]
  },
  {
   "cell_type": "code",
   "execution_count": 35,
   "id": "e1da0f9c-68f0-4a5d-a76b-a06d8b57da46",
   "metadata": {},
   "outputs": [
    {
     "name": "stdout",
     "output_type": "stream",
     "text": [
      "The cost of the note book is 55.25564\n"
     ]
    }
   ],
   "source": [
    "price = 55.25563824422682\n",
    "s = f'The cost of the note book is {price:.5f}' #it rounds at 5th decimal\n",
    "print(s)"
   ]
  },
  {
   "cell_type": "code",
   "execution_count": 36,
   "id": "3f654255-d08d-4601-bd62-9636c131e57d",
   "metadata": {},
   "outputs": [
    {
     "name": "stdout",
     "output_type": "stream",
     "text": [
      "The price is 1180 dollars\n"
     ]
    }
   ],
   "source": [
    "txt = f\"The price is {20 * 59} dollars\"\n",
    "print(txt)"
   ]
  },
  {
   "cell_type": "code",
   "execution_count": 38,
   "id": "6b89697e-cdf1-4b21-a295-8d56332bf2b8",
   "metadata": {},
   "outputs": [
    {
     "name": "stdout",
     "output_type": "stream",
     "text": [
      "This is \"my\" book\n"
     ]
    }
   ],
   "source": [
    "strText = 'This is \"my\" book'\n",
    "print(strText)"
   ]
  },
  {
   "cell_type": "code",
   "execution_count": 39,
   "id": "1717eaee-86ac-4388-85bf-32b50bd27461",
   "metadata": {},
   "outputs": [
    {
     "ename": "SyntaxError",
     "evalue": "invalid syntax (21075532.py, line 1)",
     "output_type": "error",
     "traceback": [
      "\u001b[0;36m  Cell \u001b[0;32mIn[39], line 1\u001b[0;36m\u001b[0m\n\u001b[0;31m    strText = \"This is \"my\" book\"\u001b[0m\n\u001b[0m                        ^\u001b[0m\n\u001b[0;31mSyntaxError\u001b[0m\u001b[0;31m:\u001b[0m invalid syntax\n"
     ]
    }
   ],
   "source": [
    "strText = \"This is \"my\" book\"\n",
    "print(strText)"
   ]
  },
  {
   "cell_type": "code",
   "execution_count": 40,
   "id": "1b260307-6c63-4361-ba6d-88772a34901c",
   "metadata": {},
   "outputs": [
    {
     "name": "stdout",
     "output_type": "stream",
     "text": [
      "This is \"my\" book\n"
     ]
    }
   ],
   "source": [
    "strText = \"This is \\\"my\\\" book\"\n",
    "print(strText)"
   ]
  },
  {
   "cell_type": "code",
   "execution_count": 41,
   "id": "36194c23-bf5a-4da8-b041-eed1d77775be",
   "metadata": {},
   "outputs": [
    {
     "name": "stdout",
     "output_type": "stream",
     "text": [
      "This is \n",
      " \"my\" book\n"
     ]
    }
   ],
   "source": [
    "strText = \"This is \\n \\\"my\\\" book\"\n",
    "print(strText)"
   ]
  },
  {
   "cell_type": "code",
   "execution_count": 42,
   "id": "73dfb7f6-7ba6-4fac-a73a-df3570ed1245",
   "metadata": {},
   "outputs": [
    {
     "name": "stdout",
     "output_type": "stream",
     "text": [
      "This is \t \"my\" book\n"
     ]
    }
   ],
   "source": [
    "strText = \"This is \\t \\\"my\\\" book\"\n",
    "print(strText)"
   ]
  },
  {
   "cell_type": "code",
   "execution_count": 43,
   "id": "dc4aba2f-b909-4a60-817a-d31bf7958152",
   "metadata": {},
   "outputs": [
    {
     "name": "stdout",
     "output_type": "stream",
     "text": [
      "This is \"my\" book\n"
     ]
    }
   ],
   "source": [
    "strText = \"This is \\b \\\"my\\\" book\"\n",
    "print(strText)"
   ]
  },
  {
   "cell_type": "code",
   "execution_count": 44,
   "id": "660707c3-f975-46c6-bf61-ca97279a787f",
   "metadata": {},
   "outputs": [
    {
     "name": "stdout",
     "output_type": "stream",
     "text": [
      " \"my\" book\n"
     ]
    }
   ],
   "source": [
    "strText = \"This is \\r \\\"my\\\" book\"\n",
    "print(strText)"
   ]
  },
  {
   "cell_type": "code",
   "execution_count": 45,
   "id": "f125f6ba-bb8d-430a-ac2d-7869318b3961",
   "metadata": {},
   "outputs": [
    {
     "name": "stdout",
     "output_type": "stream",
     "text": [
      "This is \f",
      " \"my\" book\n"
     ]
    }
   ],
   "source": [
    "strText = \"This is \\f \\\"my\\\" book\"\n",
    "print(strText)"
   ]
  },
  {
   "cell_type": "code",
   "execution_count": 46,
   "id": "ed6c24d0-413b-4b6f-b59e-0dfdc6d1448c",
   "metadata": {},
   "outputs": [
    {
     "data": {
      "text/plain": [
       "0"
      ]
     },
     "execution_count": 46,
     "metadata": {},
     "output_type": "execute_result"
    }
   ],
   "source": [
    "3^3\n"
   ]
  },
  {
   "cell_type": "code",
   "execution_count": 47,
   "id": "41a08e0f-c462-4930-866f-aa076171e28c",
   "metadata": {},
   "outputs": [
    {
     "data": {
      "text/plain": [
       "2"
      ]
     },
     "execution_count": 47,
     "metadata": {},
     "output_type": "execute_result"
    }
   ],
   "source": [
    "3^1"
   ]
  },
  {
   "cell_type": "code",
   "execution_count": null,
   "id": "d7302f57-21ed-4cd7-b708-b9b3b7f14c73",
   "metadata": {},
   "outputs": [],
   "source": []
  },
  {
   "cell_type": "code",
   "execution_count": null,
   "id": "6d1e843b-3788-410e-a3af-f14a27b7c2c1",
   "metadata": {},
   "outputs": [],
   "source": []
  }
 ],
 "metadata": {
  "kernelspec": {
   "display_name": "Python [conda env:base] *",
   "language": "python",
   "name": "conda-base-py"
  },
  "language_info": {
   "codemirror_mode": {
    "name": "ipython",
    "version": 3
   },
   "file_extension": ".py",
   "mimetype": "text/x-python",
   "name": "python",
   "nbconvert_exporter": "python",
   "pygments_lexer": "ipython3",
   "version": "3.12.7"
  }
 },
 "nbformat": 4,
 "nbformat_minor": 5
}
