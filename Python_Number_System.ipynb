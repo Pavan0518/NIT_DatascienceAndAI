{
 "cells": [
  {
   "cell_type": "code",
   "execution_count": null,
   "id": "2922e004-5654-4141-a6ce-c0a26d4cca62",
   "metadata": {
    "panel-layout": {
     "height": 27,
     "visible": true,
     "width": 100
    }
   },
   "outputs": [
    {
     "data": {
      "text/plain": [
       "10"
      ]
     },
     "execution_count": 3,
     "metadata": {},
     "output_type": "execute_result"
    }
   ],
   "source": [
    "0b1010"
   ]
  },
  {
   "cell_type": "code",
   "execution_count": null,
   "id": "c535d79e-de13-4bdd-875e-f27593f948ea",
   "metadata": {
    "panel-layout": {
     "height": 27,
     "visible": true,
     "width": 100
    }
   },
   "outputs": [
    {
     "data": {
      "text/plain": [
       "15"
      ]
     },
     "execution_count": 2,
     "metadata": {},
     "output_type": "execute_result"
    }
   ],
   "source": [
    "0b1111"
   ]
  },
  {
   "cell_type": "code",
   "execution_count": null,
   "id": "fc035331-be16-4c87-b2b8-13133bae2d24",
   "metadata": {
    "panel-layout": {
     "height": 0,
     "visible": true,
     "width": 100
    }
   },
   "outputs": [
    {
     "name": "stdout",
     "output_type": "stream",
     "text": [
      "10\n"
     ]
    }
   ],
   "source": [
    "print(0o12)"
   ]
  },
  {
   "cell_type": "code",
   "execution_count": null,
   "id": "fe9df1f0-208b-4340-8f3d-fbb5bbab7870",
   "metadata": {
    "panel-layout": {
     "height": 27,
     "visible": true,
     "width": 100
    }
   },
   "outputs": [
    {
     "data": {
      "text/plain": [
       "27"
      ]
     },
     "execution_count": 5,
     "metadata": {},
     "output_type": "execute_result"
    }
   ],
   "source": [
    "0o33"
   ]
  },
  {
   "cell_type": "code",
   "execution_count": null,
   "id": "7e0b9670-7996-4069-9dc6-d09256afcb88",
   "metadata": {
    "panel-layout": {
     "height": 27,
     "visible": true,
     "width": 100
    }
   },
   "outputs": [
    {
     "data": {
      "text/plain": [
       "1"
      ]
     },
     "execution_count": 6,
     "metadata": {},
     "output_type": "execute_result"
    }
   ],
   "source": [
    "0x1"
   ]
  },
  {
   "cell_type": "code",
   "execution_count": null,
   "id": "15480189-33b3-4fee-ba33-44a28ec77779",
   "metadata": {
    "panel-layout": {
     "height": 27,
     "visible": true,
     "width": 100
    }
   },
   "outputs": [
    {
     "data": {
      "text/plain": [
       "17"
      ]
     },
     "execution_count": 7,
     "metadata": {},
     "output_type": "execute_result"
    }
   ],
   "source": [
    "0x11"
   ]
  },
  {
   "cell_type": "code",
   "execution_count": null,
   "id": "5c8430a3-4a7e-40e9-ba3c-cd527509a2a2",
   "metadata": {
    "panel-layout": {
     "height": 27,
     "visible": true,
     "width": 100
    }
   },
   "outputs": [
    {
     "data": {
      "text/plain": [
       "4626"
      ]
     },
     "execution_count": 8,
     "metadata": {},
     "output_type": "execute_result"
    }
   ],
   "source": [
    "0x1212"
   ]
  },
  {
   "cell_type": "code",
   "execution_count": null,
   "id": "46452296",
   "metadata": {},
   "outputs": [],
   "source": [
    "1"
   ]
  }
 ],
 "metadata": {
  "kernelspec": {
   "display_name": "Python [conda env:base] *",
   "language": "python",
   "name": "conda-base-py"
  },
  "language_info": {
   "codemirror_mode": {
    "name": "ipython",
    "version": 3
   },
   "file_extension": ".py",
   "mimetype": "text/x-python",
   "name": "python",
   "nbconvert_exporter": "python",
   "pygments_lexer": "ipython3",
   "version": "3.12.7"
  },
  "panel-cell-order": [
   "2922e004-5654-4141-a6ce-c0a26d4cca62",
   "c535d79e-de13-4bdd-875e-f27593f948ea",
   "fc035331-be16-4c87-b2b8-13133bae2d24",
   "fe9df1f0-208b-4340-8f3d-fbb5bbab7870",
   "7e0b9670-7996-4069-9dc6-d09256afcb88",
   "15480189-33b3-4fee-ba33-44a28ec77779",
   "5c8430a3-4a7e-40e9-ba3c-cd527509a2a2"
  ]
 },
 "nbformat": 4,
 "nbformat_minor": 5
}
