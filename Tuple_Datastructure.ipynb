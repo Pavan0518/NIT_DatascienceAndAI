{
 "cells": [
  {
   "cell_type": "markdown",
   "id": "d1db1669-69a1-4436-b53b-3cce89d9bae0",
   "metadata": {},
   "source": [
    "## Tuple"
   ]
  },
  {
   "cell_type": "code",
   "execution_count": 72,
   "id": "a37bb545-e13f-4ac9-b628-b7c2e46576e9",
   "metadata": {},
   "outputs": [
    {
     "data": {
      "text/plain": [
       "()"
      ]
     },
     "execution_count": 72,
     "metadata": {},
     "output_type": "execute_result"
    }
   ],
   "source": [
    "t = () # tuple defines with paranthisis\n",
    "t"
   ]
  },
  {
   "cell_type": "code",
   "execution_count": 73,
   "id": "43797e29-8e68-473f-a923-f803ac7f4795",
   "metadata": {},
   "outputs": [
    {
     "data": {
      "text/plain": [
       "tuple"
      ]
     },
     "execution_count": 73,
     "metadata": {},
     "output_type": "execute_result"
    }
   ],
   "source": [
    "type(t)"
   ]
  },
  {
   "cell_type": "code",
   "execution_count": 74,
   "id": "ff52274d-faef-4720-bffe-b7d9738a056d",
   "metadata": {},
   "outputs": [
    {
     "data": {
      "text/plain": [
       "(10, 20, 30)"
      ]
     },
     "execution_count": 74,
     "metadata": {},
     "output_type": "execute_result"
    }
   ],
   "source": [
    "t1 = (10, 20, 30)\n",
    "t1"
   ]
  },
  {
   "cell_type": "code",
   "execution_count": 75,
   "id": "adf38731-d847-46f8-ac8b-cbbffad87b4e",
   "metadata": {},
   "outputs": [
    {
     "ename": "AttributeError",
     "evalue": "'tuple' object has no attribute 'append'",
     "output_type": "error",
     "traceback": [
      "\u001b[0;31m---------------------------------------------------------------------------\u001b[0m",
      "\u001b[0;31mAttributeError\u001b[0m                            Traceback (most recent call last)",
      "Cell \u001b[0;32mIn[75], line 1\u001b[0m\n\u001b[0;32m----> 1\u001b[0m t1\u001b[38;5;241m.\u001b[39mappend(\u001b[38;5;241m20\u001b[39m)\n",
      "\u001b[0;31mAttributeError\u001b[0m: 'tuple' object has no attribute 'append'"
     ]
    }
   ],
   "source": [
    "t1.append(20)"
   ]
  },
  {
   "cell_type": "code",
   "execution_count": 85,
   "id": "53f563bc-fb7e-4db6-b5ed-476a8de9cd6e",
   "metadata": {},
   "outputs": [
    {
     "data": {
      "text/plain": [
       "('alex', 123456789, 'cizp567', 465)"
      ]
     },
     "execution_count": 85,
     "metadata": {},
     "output_type": "execute_result"
    }
   ],
   "source": [
    "sbi = ('alex', 123456789, 'cizp567', 465)\n",
    "sbi"
   ]
  },
  {
   "cell_type": "code",
   "execution_count": 86,
   "id": "ad4d5070-7f56-4e50-908e-86ec05922c2d",
   "metadata": {},
   "outputs": [
    {
     "data": {
      "text/plain": [
       "123456789"
      ]
     },
     "execution_count": 86,
     "metadata": {},
     "output_type": "execute_result"
    }
   ],
   "source": [
    "sbi[1]"
   ]
  },
  {
   "cell_type": "code",
   "execution_count": 87,
   "id": "c4e5013e-0ea0-4871-9617-e74cbea1f813",
   "metadata": {},
   "outputs": [
    {
     "ename": "TypeError",
     "evalue": "'tuple' object does not support item assignment",
     "output_type": "error",
     "traceback": [
      "\u001b[0;31m---------------------------------------------------------------------------\u001b[0m",
      "\u001b[0;31mTypeError\u001b[0m                                 Traceback (most recent call last)",
      "Cell \u001b[0;32mIn[87], line 1\u001b[0m\n\u001b[0;32m----> 1\u001b[0m sbi[\u001b[38;5;241m1\u001b[39m] \u001b[38;5;241m=\u001b[39m \u001b[38;5;241m20\u001b[39m\n",
      "\u001b[0;31mTypeError\u001b[0m: 'tuple' object does not support item assignment"
     ]
    }
   ],
   "source": [
    "sbi[1] = 20"
   ]
  },
  {
   "cell_type": "code",
   "execution_count": null,
   "id": "4034b6fa-f018-474a-8db5-b7ca477bca5e",
   "metadata": {},
   "outputs": [],
   "source": [
    "# tuple immutable."
   ]
  },
  {
   "cell_type": "code",
   "execution_count": 88,
   "id": "4fc0e003-54bc-486a-936a-5ef7c536ddb3",
   "metadata": {},
   "outputs": [
    {
     "data": {
      "text/plain": [
       "(10, 20, 30)"
      ]
     },
     "execution_count": 88,
     "metadata": {},
     "output_type": "execute_result"
    }
   ],
   "source": [
    "t1"
   ]
  },
  {
   "cell_type": "code",
   "execution_count": 89,
   "id": "b13e4de1-2acf-42fa-b4b6-609a9b40e3f1",
   "metadata": {},
   "outputs": [
    {
     "data": {
      "text/plain": [
       "1"
      ]
     },
     "execution_count": 89,
     "metadata": {},
     "output_type": "execute_result"
    }
   ],
   "source": [
    "t1.count(10)"
   ]
  },
  {
   "cell_type": "code",
   "execution_count": 90,
   "id": "01bb83b1-628a-47c7-a128-bbb03fdd3e39",
   "metadata": {},
   "outputs": [
    {
     "data": {
      "text/plain": [
       "1"
      ]
     },
     "execution_count": 90,
     "metadata": {},
     "output_type": "execute_result"
    }
   ],
   "source": [
    "t1.count(20)"
   ]
  },
  {
   "cell_type": "code",
   "execution_count": 91,
   "id": "a191ce50-1a01-444c-8df4-685321f842c3",
   "metadata": {},
   "outputs": [
    {
     "name": "stdout",
     "output_type": "stream",
     "text": [
      "10\n",
      "20\n",
      "30\n"
     ]
    }
   ],
   "source": [
    "for i in t1:\n",
    "    print(i)"
   ]
  },
  {
   "cell_type": "code",
   "execution_count": 92,
   "id": "16311e91-6662-41c9-b596-a735fa3b5f52",
   "metadata": {},
   "outputs": [
    {
     "name": "stdout",
     "output_type": "stream",
     "text": [
      "(0, 10)\n",
      "(1, 20)\n",
      "(2, 30)\n"
     ]
    }
   ],
   "source": [
    "for i in enumerate(t1):\n",
    "    print(i)"
   ]
  },
  {
   "cell_type": "code",
   "execution_count": 93,
   "id": "9d6e83e1-4e75-47de-b17f-b73d14efffc8",
   "metadata": {},
   "outputs": [
    {
     "data": {
      "text/plain": [
       "(10, 20, 30)"
      ]
     },
     "execution_count": 93,
     "metadata": {},
     "output_type": "execute_result"
    }
   ],
   "source": [
    "t1"
   ]
  },
  {
   "cell_type": "code",
   "execution_count": 94,
   "id": "38d570db-6984-4fae-936e-d234058473b5",
   "metadata": {},
   "outputs": [
    {
     "data": {
      "text/plain": [
       "(10, 20, 30, 10, 20, 30, 10, 20, 30)"
      ]
     },
     "execution_count": 94,
     "metadata": {},
     "output_type": "execute_result"
    }
   ],
   "source": [
    "t2 = t1 * 3\n",
    "t2"
   ]
  },
  {
   "cell_type": "code",
   "execution_count": 95,
   "id": "2f353d39-5d2b-4f42-843d-cffec9af8aa3",
   "metadata": {},
   "outputs": [
    {
     "data": {
      "text/plain": [
       "3"
      ]
     },
     "execution_count": 95,
     "metadata": {},
     "output_type": "execute_result"
    }
   ],
   "source": [
    "t2.count(10)"
   ]
  },
  {
   "cell_type": "code",
   "execution_count": 96,
   "id": "bb8d5498-23b3-4dab-9fb7-0f2452a4b4a7",
   "metadata": {},
   "outputs": [
    {
     "data": {
      "text/plain": [
       "(30, 10, 20, 30)"
      ]
     },
     "execution_count": 96,
     "metadata": {},
     "output_type": "execute_result"
    }
   ],
   "source": [
    "t2[2:6]"
   ]
  },
  {
   "cell_type": "code",
   "execution_count": 97,
   "id": "e6e05cea-7d51-45c1-8f4d-68d5732b14ae",
   "metadata": {},
   "outputs": [
    {
     "ename": "SyntaxError",
     "evalue": "invalid syntax (768024517.py, line 1)",
     "output_type": "error",
     "traceback": [
      "\u001b[0;36m  Cell \u001b[0;32mIn[97], line 1\u001b[0;36m\u001b[0m\n\u001b[0;31m    t2(2:6) # slicing should work with []\u001b[0m\n\u001b[0m        ^\u001b[0m\n\u001b[0;31mSyntaxError\u001b[0m\u001b[0;31m:\u001b[0m invalid syntax\n"
     ]
    }
   ],
   "source": [
    "t2(2:6) # slicing should work with []"
   ]
  },
  {
   "cell_type": "code",
   "execution_count": 98,
   "id": "2a9776c2-d7df-4d46-a361-759991994048",
   "metadata": {},
   "outputs": [
    {
     "ename": "AttributeError",
     "evalue": "'tuple' object has no attribute 'remove'",
     "output_type": "error",
     "traceback": [
      "\u001b[0;31m---------------------------------------------------------------------------\u001b[0m",
      "\u001b[0;31mAttributeError\u001b[0m                            Traceback (most recent call last)",
      "Cell \u001b[0;32mIn[98], line 1\u001b[0m\n\u001b[0;32m----> 1\u001b[0m t2\u001b[38;5;241m.\u001b[39mremove(\u001b[38;5;241m20\u001b[39m)\n",
      "\u001b[0;31mAttributeError\u001b[0m: 'tuple' object has no attribute 'remove'"
     ]
    }
   ],
   "source": [
    "t2.remove(20)"
   ]
  },
  {
   "cell_type": "code",
   "execution_count": null,
   "id": "15b4aec7-c16a-4b7f-b0cb-7a74dee38257",
   "metadata": {},
   "outputs": [],
   "source": [
    "del t2\n",
    "t2"
   ]
  },
  {
   "cell_type": "markdown",
   "id": "950bd4f6-1532-4efe-ac87-947cdc34146c",
   "metadata": {},
   "source": [
    "## Tuple Practice"
   ]
  },
  {
   "cell_type": "code",
   "execution_count": 99,
   "id": "30d1507e-fe4e-466d-a266-3a0699cc5ec4",
   "metadata": {},
   "outputs": [],
   "source": [
    "tup1 = () # Empty tuple"
   ]
  },
  {
   "cell_type": "code",
   "execution_count": 100,
   "id": "5dbab915-5f7c-4584-b28a-5ec6c4748605",
   "metadata": {},
   "outputs": [
    {
     "data": {
      "text/plain": [
       "(10, 20, 30)"
      ]
     },
     "execution_count": 100,
     "metadata": {},
     "output_type": "execute_result"
    }
   ],
   "source": [
    "tup2 = (10, 20, 30) # Tule of integer numbers\n",
    "tup2"
   ]
  },
  {
   "cell_type": "code",
   "execution_count": 101,
   "id": "f9961ec1-ef4b-4ddd-906d-32144e5e74c2",
   "metadata": {},
   "outputs": [
    {
     "data": {
      "text/plain": [
       "(10.77, 30.66, 60.89)"
      ]
     },
     "execution_count": 101,
     "metadata": {},
     "output_type": "execute_result"
    }
   ],
   "source": [
    "tup3 = (10.77, 30.66, 60.89) # tuple of floats\n",
    "tup3"
   ]
  },
  {
   "cell_type": "code",
   "execution_count": 102,
   "id": "a4fc9eb1-3760-47dd-b30a-0ea918483c6f",
   "metadata": {},
   "outputs": [],
   "source": [
    "tup4 = ('one', 'two', 'three') # tuple of strings"
   ]
  },
  {
   "cell_type": "code",
   "execution_count": 103,
   "id": "0a43685e-6e98-406c-81af-f82a81dbc9d2",
   "metadata": {},
   "outputs": [],
   "source": [
    "tup5 = ('pavan', 33, (50, 100), (150, 90)) # Nested tuples"
   ]
  },
  {
   "cell_type": "code",
   "execution_count": 104,
   "id": "6bc2932a-8b40-4454-8d06-a0a9b07e444c",
   "metadata": {},
   "outputs": [],
   "source": [
    "tup6 = (100, 'pavan', 17.765) # tuple of mixed data types"
   ]
  },
  {
   "cell_type": "code",
   "execution_count": 105,
   "id": "377171fb-87ac-48aa-a581-b60e5fd22514",
   "metadata": {},
   "outputs": [],
   "source": [
    "tup7 = ('pavan', 25, [50, 100], [150, 90], {'John', 'David'}, (99,22,33))"
   ]
  },
  {
   "cell_type": "code",
   "execution_count": 106,
   "id": "be6c2b1d-188d-4499-bbcc-105ba1b2ce8d",
   "metadata": {},
   "outputs": [
    {
     "data": {
      "text/plain": [
       "6"
      ]
     },
     "execution_count": 106,
     "metadata": {},
     "output_type": "execute_result"
    }
   ],
   "source": [
    "len(tup7)"
   ]
  },
  {
   "cell_type": "markdown",
   "id": "78806120-b6fa-4a06-b4bd-368d30304cf8",
   "metadata": {},
   "source": [
    "## Tuple Indexing "
   ]
  },
  {
   "cell_type": "code",
   "execution_count": 107,
   "id": "5e2de246-58ba-4c13-82ff-21d1a7015044",
   "metadata": {},
   "outputs": [
    {
     "data": {
      "text/plain": [
       "10"
      ]
     },
     "execution_count": 107,
     "metadata": {},
     "output_type": "execute_result"
    }
   ],
   "source": [
    "tup2[0] # Retrive first element from the tuple tup2"
   ]
  },
  {
   "cell_type": "code",
   "execution_count": 108,
   "id": "8ec63d71-6db1-4e98-9f7b-c3122e192637",
   "metadata": {},
   "outputs": [
    {
     "data": {
      "text/plain": [
       "'one'"
      ]
     },
     "execution_count": 108,
     "metadata": {},
     "output_type": "execute_result"
    }
   ],
   "source": [
    "tup4[0] # Reterving first element from the tuple tup4"
   ]
  },
  {
   "cell_type": "code",
   "execution_count": 109,
   "id": "0e5e6e82-5de1-447d-a44b-b8ef4ecb0a31",
   "metadata": {},
   "outputs": [
    {
     "data": {
      "text/plain": [
       "'o'"
      ]
     },
     "execution_count": 109,
     "metadata": {},
     "output_type": "execute_result"
    }
   ],
   "source": [
    "tup4[0][0] # Nested indexing of tuple. Reterving first element's first character."
   ]
  },
  {
   "cell_type": "code",
   "execution_count": 110,
   "id": "134f2eea-5170-48f8-b4d0-25eab1b39eeb",
   "metadata": {},
   "outputs": [
    {
     "data": {
      "text/plain": [
       "'three'"
      ]
     },
     "execution_count": 110,
     "metadata": {},
     "output_type": "execute_result"
    }
   ],
   "source": [
    "tup4[-1] # Reterving the last element from the tuple tup4"
   ]
  },
  {
   "cell_type": "code",
   "execution_count": 111,
   "id": "31e52cd4-64fc-4eb1-bcdf-52c10e5a73fb",
   "metadata": {},
   "outputs": [
    {
     "data": {
      "text/plain": [
       "('pavan', 33, (50, 100), (150, 90))"
      ]
     },
     "execution_count": 111,
     "metadata": {},
     "output_type": "execute_result"
    }
   ],
   "source": [
    "tup5"
   ]
  },
  {
   "cell_type": "code",
   "execution_count": 112,
   "id": "872c48a7-0191-44a4-ba9c-6a0d2a380ed9",
   "metadata": {},
   "outputs": [
    {
     "data": {
      "text/plain": [
       "(150, 90)"
      ]
     },
     "execution_count": 112,
     "metadata": {},
     "output_type": "execute_result"
    }
   ],
   "source": [
    "tup5[-1] # Retrive last item from the tuple tup5"
   ]
  },
  {
   "cell_type": "markdown",
   "id": "0b35bee3-5280-4619-923a-643880c0743b",
   "metadata": {},
   "source": [
    "## Tuple Slicing"
   ]
  },
  {
   "cell_type": "markdown",
   "id": "88536566-ba3f-47e7-8e30-26617d0c356b",
   "metadata": {},
   "source": [
    "## Tuple Slicing"
   ]
  },
  {
   "cell_type": "code",
   "execution_count": 113,
   "id": "0f006b99-4b0e-4974-b991-b54aa9726bb7",
   "metadata": {},
   "outputs": [],
   "source": [
    "mytuple = ('one', 'two', 'three', 'four', 'five', 'six', 'seveen', 'eight', 'nine', 'ten')"
   ]
  },
  {
   "cell_type": "code",
   "execution_count": 114,
   "id": "8f71865f-6904-42a7-ab9c-e623aa175fad",
   "metadata": {},
   "outputs": [
    {
     "data": {
      "text/plain": [
       "('one', 'two', 'three')"
      ]
     },
     "execution_count": 114,
     "metadata": {},
     "output_type": "execute_result"
    }
   ],
   "source": [
    "mytuple[0:3] # Retrive first 3 items"
   ]
  },
  {
   "cell_type": "code",
   "execution_count": 115,
   "id": "cb3db531-c39b-4816-b8ff-a8cc6f34825b",
   "metadata": {},
   "outputs": [
    {
     "data": {
      "text/plain": [
       "('three', 'four', 'five')"
      ]
     },
     "execution_count": 115,
     "metadata": {},
     "output_type": "execute_result"
    }
   ],
   "source": [
    "mytuple[2:5] # Retrive elements from 2nd index to (5-1) 4th indexed elements."
   ]
  },
  {
   "cell_type": "code",
   "execution_count": 116,
   "id": "425c1d18-01e5-4756-a60d-2ac28b9aa3b6",
   "metadata": {},
   "outputs": [
    {
     "data": {
      "text/plain": [
       "('one', 'two')"
      ]
     },
     "execution_count": 116,
     "metadata": {},
     "output_type": "execute_result"
    }
   ],
   "source": [
    "mytuple[:2] # Retrive first two elements."
   ]
  },
  {
   "cell_type": "code",
   "execution_count": 117,
   "id": "5b19e6d4-823f-4c90-b58b-ed6c6f9c9ddc",
   "metadata": {},
   "outputs": [
    {
     "data": {
      "text/plain": [
       "('eight', 'nine', 'ten')"
      ]
     },
     "execution_count": 117,
     "metadata": {},
     "output_type": "execute_result"
    }
   ],
   "source": [
    "mytuple[-3:] # Retrive last 3 items."
   ]
  },
  {
   "cell_type": "code",
   "execution_count": 118,
   "id": "7ea1438e-68e1-4a1f-a80d-96040da0cb36",
   "metadata": {},
   "outputs": [
    {
     "data": {
      "text/plain": [
       "('nine', 'ten')"
      ]
     },
     "execution_count": 118,
     "metadata": {},
     "output_type": "execute_result"
    }
   ],
   "source": [
    "mytuple[-2:] # Retrive last 2 items."
   ]
  },
  {
   "cell_type": "code",
   "execution_count": 119,
   "id": "b3623dcc-6819-4e31-a6e5-9d2a224fe2a4",
   "metadata": {},
   "outputs": [
    {
     "data": {
      "text/plain": [
       "'ten'"
      ]
     },
     "execution_count": 119,
     "metadata": {},
     "output_type": "execute_result"
    }
   ],
   "source": [
    "mytuple[-1] # Retrive last item."
   ]
  },
  {
   "cell_type": "code",
   "execution_count": 120,
   "id": "213de7d3-77ab-46a9-9723-c9ae437569db",
   "metadata": {},
   "outputs": [
    {
     "data": {
      "text/plain": [
       "('one',\n",
       " 'two',\n",
       " 'three',\n",
       " 'four',\n",
       " 'five',\n",
       " 'six',\n",
       " 'seveen',\n",
       " 'eight',\n",
       " 'nine',\n",
       " 'ten')"
      ]
     },
     "execution_count": 120,
     "metadata": {},
     "output_type": "execute_result"
    }
   ],
   "source": [
    "mytuple[:] # Retrive all items from start to end"
   ]
  },
  {
   "cell_type": "code",
   "execution_count": 121,
   "id": "d981605c-f47c-4e5c-8ddd-28e3531de292",
   "metadata": {},
   "outputs": [
    {
     "ename": "TypeError",
     "evalue": "'tuple' object doesn't support item deletion",
     "output_type": "error",
     "traceback": [
      "\u001b[0;31m---------------------------------------------------------------------------\u001b[0m",
      "\u001b[0;31mTypeError\u001b[0m                                 Traceback (most recent call last)",
      "Cell \u001b[0;32mIn[121], line 1\u001b[0m\n\u001b[0;32m----> 1\u001b[0m \u001b[38;5;28;01mdel\u001b[39;00m mytuple[\u001b[38;5;241m0\u001b[39m]\n",
      "\u001b[0;31mTypeError\u001b[0m: 'tuple' object doesn't support item deletion"
     ]
    }
   ],
   "source": [
    "del mytuple[0] # Tuples are immutable which means we cann't DELETE tuple items."
   ]
  },
  {
   "cell_type": "code",
   "execution_count": 122,
   "id": "b57216a5-7b1a-4489-8772-59f20d0fd67f",
   "metadata": {},
   "outputs": [
    {
     "ename": "TypeError",
     "evalue": "'tuple' object does not support item assignment",
     "output_type": "error",
     "traceback": [
      "\u001b[0;31m---------------------------------------------------------------------------\u001b[0m",
      "\u001b[0;31mTypeError\u001b[0m                                 Traceback (most recent call last)",
      "Cell \u001b[0;32mIn[122], line 1\u001b[0m\n\u001b[0;32m----> 1\u001b[0m mytuple[\u001b[38;5;241m0\u001b[39m] \u001b[38;5;241m=\u001b[39m \u001b[38;5;241m1\u001b[39m\n",
      "\u001b[0;31mTypeError\u001b[0m: 'tuple' object does not support item assignment"
     ]
    }
   ],
   "source": [
    "mytuple[0] = 1 # Tuples are immutable so that we cann't CHANGE tuple items."
   ]
  },
  {
   "cell_type": "code",
   "execution_count": 123,
   "id": "45650e6e-42b7-4847-be44-3b49555154a3",
   "metadata": {},
   "outputs": [],
   "source": [
    "del mytuple # Deleting entire tuple object is possible"
   ]
  },
  {
   "cell_type": "code",
   "execution_count": 124,
   "id": "8d452a0b-1ad5-4cca-a90d-afb491ec6156",
   "metadata": {},
   "outputs": [
    {
     "ename": "NameError",
     "evalue": "name 'mutuple' is not defined",
     "output_type": "error",
     "traceback": [
      "\u001b[0;31m---------------------------------------------------------------------------\u001b[0m",
      "\u001b[0;31mNameError\u001b[0m                                 Traceback (most recent call last)",
      "Cell \u001b[0;32mIn[124], line 1\u001b[0m\n\u001b[0;32m----> 1\u001b[0m mutuple\n",
      "\u001b[0;31mNameError\u001b[0m: name 'mutuple' is not defined"
     ]
    }
   ],
   "source": [
    "mutuple"
   ]
  },
  {
   "cell_type": "code",
   "execution_count": 125,
   "id": "f3e9c8d4-d992-43d7-9396-f2ce6a7d14e5",
   "metadata": {},
   "outputs": [],
   "source": [
    "mytuple = ('one', 'two', 'three', 'four', 'five', 'six', 'seveen', 'eight', 'nine', 'ten')"
   ]
  },
  {
   "cell_type": "code",
   "execution_count": 126,
   "id": "505f4115-c4f7-43ea-90f8-8f8b6586cdc1",
   "metadata": {},
   "outputs": [
    {
     "data": {
      "text/plain": [
       "('one',\n",
       " 'two',\n",
       " 'three',\n",
       " 'four',\n",
       " 'five',\n",
       " 'six',\n",
       " 'seveen',\n",
       " 'eight',\n",
       " 'nine',\n",
       " 'ten')"
      ]
     },
     "execution_count": 126,
     "metadata": {},
     "output_type": "execute_result"
    }
   ],
   "source": [
    "mytuple"
   ]
  },
  {
   "cell_type": "code",
   "execution_count": 127,
   "id": "4223fac0-6478-477a-9bc9-b7c38891e8c8",
   "metadata": {},
   "outputs": [
    {
     "name": "stdout",
     "output_type": "stream",
     "text": [
      "one\n",
      "two\n",
      "three\n",
      "four\n",
      "five\n",
      "six\n",
      "seveen\n",
      "eight\n",
      "nine\n",
      "ten\n"
     ]
    }
   ],
   "source": [
    "for i in mytuple:\n",
    "    print(i)"
   ]
  },
  {
   "cell_type": "code",
   "execution_count": 128,
   "id": "9bf0aec4-512f-41b6-85dc-1dc56d1843b2",
   "metadata": {},
   "outputs": [
    {
     "name": "stdout",
     "output_type": "stream",
     "text": [
      "(0, 'one')\n",
      "(1, 'two')\n",
      "(2, 'three')\n",
      "(3, 'four')\n",
      "(4, 'five')\n",
      "(5, 'six')\n",
      "(6, 'seveen')\n",
      "(7, 'eight')\n",
      "(8, 'nine')\n",
      "(9, 'ten')\n"
     ]
    }
   ],
   "source": [
    "for i in enumerate(mytuple):\n",
    "    print(i)"
   ]
  },
  {
   "cell_type": "code",
   "execution_count": 129,
   "id": "ca7080bb-f640-4eb7-b83d-724dfc258c02",
   "metadata": {},
   "outputs": [
    {
     "data": {
      "text/plain": [
       "True"
      ]
     },
     "execution_count": 129,
     "metadata": {},
     "output_type": "execute_result"
    }
   ],
   "source": [
    "'one' in mytuple"
   ]
  },
  {
   "cell_type": "code",
   "execution_count": 130,
   "id": "3bf0a487-561d-4825-841d-ee410300b184",
   "metadata": {},
   "outputs": [
    {
     "data": {
      "text/plain": [
       "False"
      ]
     },
     "execution_count": 130,
     "metadata": {},
     "output_type": "execute_result"
    }
   ],
   "source": [
    "'eleven' in mytuple"
   ]
  },
  {
   "cell_type": "code",
   "execution_count": 131,
   "id": "3f91169f-95a1-4fa8-b532-e9af3ccede1c",
   "metadata": {},
   "outputs": [
    {
     "name": "stdout",
     "output_type": "stream",
     "text": [
      "Three is there in the tuple\n"
     ]
    }
   ],
   "source": [
    "if 'three' in mytuple:\n",
    "    print('Three is there in the tuple')\n",
    "else :\n",
    "    print('Theree is not there in the tuple')"
   ]
  },
  {
   "cell_type": "code",
   "execution_count": 132,
   "id": "2a1e8725-6c76-4c4d-b55b-d28a4ee75474",
   "metadata": {},
   "outputs": [
    {
     "data": {
      "text/plain": [
       "('one',\n",
       " 'two',\n",
       " 'three',\n",
       " 'four',\n",
       " 'five',\n",
       " 'six',\n",
       " 'seveen',\n",
       " 'eight',\n",
       " 'nine',\n",
       " 'ten')"
      ]
     },
     "execution_count": 132,
     "metadata": {},
     "output_type": "execute_result"
    }
   ],
   "source": [
    "mytuple"
   ]
  },
  {
   "cell_type": "markdown",
   "id": "6b7bf340-6d87-41c9-96e4-f8528e36945b",
   "metadata": {},
   "source": [
    "## Index Positions"
   ]
  },
  {
   "cell_type": "code",
   "execution_count": 133,
   "id": "cb84947e-5eb3-490a-aea5-27f45b8ee87b",
   "metadata": {},
   "outputs": [
    {
     "data": {
      "text/plain": [
       "0"
      ]
     },
     "execution_count": 133,
     "metadata": {},
     "output_type": "execute_result"
    }
   ],
   "source": [
    "mytuple.index('one') # Finding that in which index the element 'one' is presented."
   ]
  },
  {
   "cell_type": "code",
   "execution_count": 134,
   "id": "480ae7da-b24d-48a9-933a-58a3ae97f90f",
   "metadata": {},
   "outputs": [
    {
     "ename": "ValueError",
     "evalue": "tuple.index(x): x not in tuple",
     "output_type": "error",
     "traceback": [
      "\u001b[0;31m---------------------------------------------------------------------------\u001b[0m",
      "\u001b[0;31mValueError\u001b[0m                                Traceback (most recent call last)",
      "Cell \u001b[0;32mIn[134], line 1\u001b[0m\n\u001b[0;32m----> 1\u001b[0m mytuple\u001b[38;5;241m.\u001b[39mindex(\u001b[38;5;124m'\u001b[39m\u001b[38;5;124mhundred\u001b[39m\u001b[38;5;124m'\u001b[39m)\n",
      "\u001b[0;31mValueError\u001b[0m: tuple.index(x): x not in tuple"
     ]
    }
   ],
   "source": [
    "mytuple.index('hundred') # Element not exists in the tuple 'mytuple'"
   ]
  },
  {
   "cell_type": "code",
   "execution_count": 135,
   "id": "b5909381-0cf2-4671-a22c-28b37545c4d7",
   "metadata": {},
   "outputs": [
    {
     "data": {
      "text/plain": [
       "('one',\n",
       " 'two',\n",
       " 'three',\n",
       " 'four',\n",
       " 'five',\n",
       " 'six',\n",
       " 'seveen',\n",
       " 'eight',\n",
       " 'nine',\n",
       " 'ten')"
      ]
     },
     "execution_count": 135,
     "metadata": {},
     "output_type": "execute_result"
    }
   ],
   "source": [
    "mytuple"
   ]
  },
  {
   "cell_type": "code",
   "execution_count": 136,
   "id": "c439fbe7-2e89-4549-adf1-ccfc72795904",
   "metadata": {},
   "outputs": [
    {
     "data": {
      "text/plain": [
       "4"
      ]
     },
     "execution_count": 136,
     "metadata": {},
     "output_type": "execute_result"
    }
   ],
   "source": [
    "mytuple.index('five')"
   ]
  },
  {
   "cell_type": "code",
   "execution_count": 137,
   "id": "2be42bc8-c3d7-45e4-9c8f-0ca66f82f084",
   "metadata": {},
   "outputs": [
    {
     "data": {
      "text/plain": [
       "7"
      ]
     },
     "execution_count": 137,
     "metadata": {},
     "output_type": "execute_result"
    }
   ],
   "source": [
    "mytuple.index('eight')"
   ]
  },
  {
   "cell_type": "markdown",
   "id": "b1c322ee-3eff-4c3e-88ab-8d6b6518b6a3",
   "metadata": {},
   "source": [
    "## Sorting"
   ]
  },
  {
   "cell_type": "code",
   "execution_count": 139,
   "id": "eeb2298c-caaf-43b5-ba19-39697faf7a83",
   "metadata": {},
   "outputs": [
    {
     "data": {
      "text/plain": [
       "(43, 67, 99, 12, 6, 90, 67)"
      ]
     },
     "execution_count": 139,
     "metadata": {},
     "output_type": "execute_result"
    }
   ],
   "source": [
    "mytuple2 = (43, 67, 99, 12, 6, 90, 67)\n",
    "mytuple2"
   ]
  },
  {
   "cell_type": "code",
   "execution_count": 140,
   "id": "d1cd71af-b9af-4627-9abe-f4593a415143",
   "metadata": {},
   "outputs": [
    {
     "data": {
      "text/plain": [
       "[6, 12, 43, 67, 67, 90, 99]"
      ]
     },
     "execution_count": 140,
     "metadata": {},
     "output_type": "execute_result"
    }
   ],
   "source": [
    "sorted(mytuple2) # Returns a new sorted list and doesn't change original tuple."
   ]
  },
  {
   "cell_type": "code",
   "execution_count": 141,
   "id": "848717d3-4760-4c4f-9a33-b85d86a210e9",
   "metadata": {},
   "outputs": [
    {
     "data": {
      "text/plain": [
       "[99, 90, 67, 67, 43, 12, 6]"
      ]
     },
     "execution_count": 141,
     "metadata": {},
     "output_type": "execute_result"
    }
   ],
   "source": [
    "sorted(mytuple2, reverse=True) # Sort in descending order."
   ]
  },
  {
   "cell_type": "code",
   "execution_count": null,
   "id": "7875b1c8-904f-4f61-8305-cfcd8e1f1eaf",
   "metadata": {},
   "outputs": [],
   "source": []
  }
 ],
 "metadata": {
  "kernelspec": {
   "display_name": "Python [conda env:base] *",
   "language": "python",
   "name": "conda-base-py"
  },
  "language_info": {
   "codemirror_mode": {
    "name": "ipython",
    "version": 3
   },
   "file_extension": ".py",
   "mimetype": "text/x-python",
   "name": "python",
   "nbconvert_exporter": "python",
   "pygments_lexer": "ipython3",
   "version": "3.12.7"
  }
 },
 "nbformat": 4,
 "nbformat_minor": 5
}
